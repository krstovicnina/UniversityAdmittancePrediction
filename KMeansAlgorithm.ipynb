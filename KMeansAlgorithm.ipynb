{
  "nbformat": 4,
  "nbformat_minor": 0,
  "metadata": {
    "colab": {
      "name": "KMeansAlgorithm.ipynb",
      "provenance": []
    },
    "kernelspec": {
      "name": "python3",
      "display_name": "Python 3"
    }
  },
  "cells": [
    {
      "cell_type": "code",
      "metadata": {
        "id": "oIzAa5204AkN"
      },
      "source": [
        "import pandas as pd\r\n",
        "import numpy as np\r\n",
        "import random\r\n",
        "import matplotlib.pyplot as plt\r\n",
        "%matplotlib inline"
      ],
      "execution_count": 221,
      "outputs": []
    },
    {
      "cell_type": "code",
      "metadata": {
        "colab": {
          "base_uri": "https://localhost:8080/",
          "height": 197
        },
        "id": "rkp37WdN4efO",
        "outputId": "c7b57421-b0ee-4c08-fb5d-9ee8def5408d"
      },
      "source": [
        "dataset=pd.read_csv('UniversityAdmittance.csv')\r\n",
        "dataset.head()"
      ],
      "execution_count": 222,
      "outputs": [
        {
          "output_type": "execute_result",
          "data": {
            "text/html": [
              "<div>\n",
              "<style scoped>\n",
              "    .dataframe tbody tr th:only-of-type {\n",
              "        vertical-align: middle;\n",
              "    }\n",
              "\n",
              "    .dataframe tbody tr th {\n",
              "        vertical-align: top;\n",
              "    }\n",
              "\n",
              "    .dataframe thead th {\n",
              "        text-align: right;\n",
              "    }\n",
              "</style>\n",
              "<table border=\"1\" class=\"dataframe\">\n",
              "  <thead>\n",
              "    <tr style=\"text-align: right;\">\n",
              "      <th></th>\n",
              "      <th>Serial_No</th>\n",
              "      <th>GRE_Score</th>\n",
              "      <th>TOEFL_Score</th>\n",
              "      <th>University_Rating</th>\n",
              "      <th>Statement_Of_Purpose</th>\n",
              "      <th>Letter_Of_Recommendation</th>\n",
              "      <th>Undergraduate_GPA</th>\n",
              "      <th>Research_Experience</th>\n",
              "      <th>Chance_of_Admission</th>\n",
              "    </tr>\n",
              "  </thead>\n",
              "  <tbody>\n",
              "    <tr>\n",
              "      <th>0</th>\n",
              "      <td>1</td>\n",
              "      <td>337</td>\n",
              "      <td>118</td>\n",
              "      <td>4</td>\n",
              "      <td>4.5</td>\n",
              "      <td>4.5</td>\n",
              "      <td>9.65</td>\n",
              "      <td>1</td>\n",
              "      <td>0.92</td>\n",
              "    </tr>\n",
              "    <tr>\n",
              "      <th>1</th>\n",
              "      <td>2</td>\n",
              "      <td>324</td>\n",
              "      <td>107</td>\n",
              "      <td>4</td>\n",
              "      <td>4.0</td>\n",
              "      <td>4.5</td>\n",
              "      <td>8.87</td>\n",
              "      <td>1</td>\n",
              "      <td>0.76</td>\n",
              "    </tr>\n",
              "    <tr>\n",
              "      <th>2</th>\n",
              "      <td>3</td>\n",
              "      <td>316</td>\n",
              "      <td>104</td>\n",
              "      <td>3</td>\n",
              "      <td>3.0</td>\n",
              "      <td>3.5</td>\n",
              "      <td>8.00</td>\n",
              "      <td>1</td>\n",
              "      <td>0.72</td>\n",
              "    </tr>\n",
              "    <tr>\n",
              "      <th>3</th>\n",
              "      <td>4</td>\n",
              "      <td>322</td>\n",
              "      <td>110</td>\n",
              "      <td>3</td>\n",
              "      <td>3.5</td>\n",
              "      <td>2.5</td>\n",
              "      <td>8.67</td>\n",
              "      <td>1</td>\n",
              "      <td>0.80</td>\n",
              "    </tr>\n",
              "    <tr>\n",
              "      <th>4</th>\n",
              "      <td>5</td>\n",
              "      <td>314</td>\n",
              "      <td>103</td>\n",
              "      <td>2</td>\n",
              "      <td>2.0</td>\n",
              "      <td>3.0</td>\n",
              "      <td>8.21</td>\n",
              "      <td>0</td>\n",
              "      <td>0.65</td>\n",
              "    </tr>\n",
              "  </tbody>\n",
              "</table>\n",
              "</div>"
            ],
            "text/plain": [
              "   Serial_No  GRE_Score  ...  Research_Experience  Chance_of_Admission\n",
              "0          1        337  ...                    1                 0.92\n",
              "1          2        324  ...                    1                 0.76\n",
              "2          3        316  ...                    1                 0.72\n",
              "3          4        322  ...                    1                 0.80\n",
              "4          5        314  ...                    0                 0.65\n",
              "\n",
              "[5 rows x 9 columns]"
            ]
          },
          "metadata": {
            "tags": []
          },
          "execution_count": 222
        }
      ]
    },
    {
      "cell_type": "code",
      "metadata": {
        "id": "9EB9l4aJ4kTj"
      },
      "source": [
        "X = dataset.iloc[:, [1, 8]].values #extrating the values from the columns "
      ],
      "execution_count": 223,
      "outputs": []
    },
    {
      "cell_type": "code",
      "metadata": {
        "id": "BFiGdk2c7CJe"
      },
      "source": [
        "m=X.shape[0] #setting the number of examples\r\n",
        "n=X.shape[1] #setting the number of features"
      ],
      "execution_count": 224,
      "outputs": []
    },
    {
      "cell_type": "code",
      "metadata": {
        "colab": {
          "base_uri": "https://localhost:8080/"
        },
        "id": "9onnFdXS7GFQ",
        "outputId": "161c92a5-9b8d-4952-d4e6-c71b27bc7aac"
      },
      "source": [
        "m"
      ],
      "execution_count": 225,
      "outputs": [
        {
          "output_type": "execute_result",
          "data": {
            "text/plain": [
              "400"
            ]
          },
          "metadata": {
            "tags": []
          },
          "execution_count": 225
        }
      ]
    },
    {
      "cell_type": "code",
      "metadata": {
        "colab": {
          "base_uri": "https://localhost:8080/"
        },
        "id": "HetObrt87KC0",
        "outputId": "9dc8c1df-6a6e-409e-8545-d2891da8f03a"
      },
      "source": [
        "n"
      ],
      "execution_count": 226,
      "outputs": [
        {
          "output_type": "execute_result",
          "data": {
            "text/plain": [
              "2"
            ]
          },
          "metadata": {
            "tags": []
          },
          "execution_count": 226
        }
      ]
    },
    {
      "cell_type": "code",
      "metadata": {
        "colab": {
          "base_uri": "https://localhost:8080/"
        },
        "id": "neIlZUlb5EpP",
        "outputId": "0a6bfcd3-f623-41ce-fd21-02dd954937ed"
      },
      "source": [
        "X[:10,:]"
      ],
      "execution_count": 227,
      "outputs": [
        {
          "output_type": "execute_result",
          "data": {
            "text/plain": [
              "array([[337.  ,   0.92],\n",
              "       [324.  ,   0.76],\n",
              "       [316.  ,   0.72],\n",
              "       [322.  ,   0.8 ],\n",
              "       [314.  ,   0.65],\n",
              "       [330.  ,   0.9 ],\n",
              "       [321.  ,   0.75],\n",
              "       [308.  ,   0.68],\n",
              "       [302.  ,   0.5 ],\n",
              "       [323.  ,   0.45]])"
            ]
          },
          "metadata": {
            "tags": []
          },
          "execution_count": 227
        }
      ]
    },
    {
      "cell_type": "code",
      "metadata": {
        "colab": {
          "base_uri": "https://localhost:8080/",
          "height": 285
        },
        "id": "FmsEJKFZE_9l",
        "outputId": "7b80dc2b-b7dc-437a-ec59-b649dbd00612"
      },
      "source": [
        "plt.scatter(X[:,0],X[:,1])"
      ],
      "execution_count": 228,
      "outputs": [
        {
          "output_type": "execute_result",
          "data": {
            "text/plain": [
              "<matplotlib.collections.PathCollection at 0x7f2c14c81898>"
            ]
          },
          "metadata": {
            "tags": []
          },
          "execution_count": 228
        },
        {
          "output_type": "display_data",
          "data": {
            "image/png": "[encoded data removed]",
            "text/plain": [
              "<Figure size 432x288 with 1 Axes>"
            ]
          },
          "metadata": {
            "tags": [],
            "needs_background": "light"
          }
        }
      ]
    },
    {
      "cell_type": "code",
      "metadata": {
        "colab": {
          "base_uri": "https://localhost:8080/",
          "height": 312
        },
        "id": "njjj254Q5yLf",
        "outputId": "f3f157bb-c3bb-4042-9742-47274afe128b"
      },
      "source": [
        "#Using the elbow method to find the optimal number of clusters \r\n",
        "from sklearn.cluster import KMeans\r\n",
        "cost=[]\r\n",
        "for k in range (1,11):\r\n",
        "    kmeans = KMeans (n_clusters= k, init= 'k-means++',random_state= 42)\r\n",
        "    kmeans.fit(X)\r\n",
        "    cost.append(kmeans.inertia_)\r\n",
        "plt.plot(range(1,11),cost)\r\n",
        "plt.title('The Elbow method')\r\n",
        "plt.xlabel('Number of clusters')\r\n",
        "plt.ylabel('cost')\r\n",
        "plt.show"
      ],
      "execution_count": 229,
      "outputs": [
        {
          "output_type": "execute_result",
          "data": {
            "text/plain": [
              "<function matplotlib.pyplot.show>"
            ]
          },
          "metadata": {
            "tags": []
          },
          "execution_count": 229
        },
        {
          "output_type": "display_data",
          "data": {
            "image/png": "[encoded data removed]",
            "text/plain": [
              "<Figure size 432x288 with 1 Axes>"
            ]
          },
          "metadata": {
            "tags": [],
            "needs_background": "light"
          }
        }
      ]
    },
    {
      "cell_type": "code",
      "metadata": {
        "id": "GDxDTQw5_Sd4"
      },
      "source": [
        "K=4 #number of clusters \r\n",
        "iterations=5000 #number of iterations"
      ],
      "execution_count": 230,
      "outputs": []
    },
    {
      "cell_type": "code",
      "metadata": {
        "id": "eZcLpUPF_uIM"
      },
      "source": [
        "centroids=np.zeros([n*K]) \r\n",
        "centroids=centroids.reshape(n,K)"
      ],
      "execution_count": 231,
      "outputs": []
    },
    {
      "cell_type": "code",
      "metadata": {
        "colab": {
          "base_uri": "https://localhost:8080/"
        },
        "id": "VYkyF2cl_5QD",
        "outputId": "0c1e864f-6759-4d0c-ef81-3cbec8d5bfcb"
      },
      "source": [
        "np.shape(centroids)"
      ],
      "execution_count": 232,
      "outputs": [
        {
          "output_type": "execute_result",
          "data": {
            "text/plain": [
              "(2, 4)"
            ]
          },
          "metadata": {
            "tags": []
          },
          "execution_count": 232
        }
      ]
    },
    {
      "cell_type": "code",
      "metadata": {
        "id": "nov6F0iN_9Jv"
      },
      "source": [
        "for k in range(K): \r\n",
        "    rand=random.randint(0,m-1) \r\n",
        "    #data index is randomly generated,\r\n",
        "    # but limited by the lower bound of 0 \r\n",
        "    #and the upper bound of the indexes of m (examples)\r\n",
        "    centroids[:,k]=X[rand]"
      ],
      "execution_count": 233,
      "outputs": []
    },
    {
      "cell_type": "code",
      "metadata": {
        "colab": {
          "base_uri": "https://localhost:8080/"
        },
        "id": "cFclhqvsAER2",
        "outputId": "ac9dea34-7462-4658-a434-42bf25f69ff7"
      },
      "source": [
        "centroids"
      ],
      "execution_count": 234,
      "outputs": [
        {
          "output_type": "execute_result",
          "data": {
            "text/plain": [
              "array([[326.  , 324.  , 312.  , 325.  ],\n",
              "       [  0.74,   0.82,   0.75,   0.84]])"
            ]
          },
          "metadata": {
            "tags": []
          },
          "execution_count": 234
        }
      ]
    },
    {
      "cell_type": "code",
      "metadata": {
        "colab": {
          "base_uri": "https://localhost:8080/",
          "height": 285
        },
        "id": "0DGKNYXhErT9",
        "outputId": "5286e344-5e55-47a8-ecb2-7a7823cb30cd"
      },
      "source": [
        "plt.scatter(X[:,0],X[:,1])\r\n",
        "plt.scatter(centroids[0,:],centroids[1,:]) #showing the first position of the centroids"
      ],
      "execution_count": 235,
      "outputs": [
        {
          "output_type": "execute_result",
          "data": {
            "text/plain": [
              "<matplotlib.collections.PathCollection at 0x7f2c14bc0e48>"
            ]
          },
          "metadata": {
            "tags": []
          },
          "execution_count": 235
        },
        {
          "output_type": "display_data",
          "data": {
            "image/png": "[encoded data removed]",
            "text/plain": [
              "<Figure size 432x288 with 1 Axes>"
            ]
          },
          "metadata": {
            "tags": [],
            "needs_background": "light"
          }
        }
      ]
    },
    {
      "cell_type": "code",
      "metadata": {
        "colab": {
          "base_uri": "https://localhost:8080/"
        },
        "id": "KBrCNN6WAf1u",
        "outputId": "295a28be-dbd8-4006-8094-bcfdf958be54"
      },
      "source": [
        "EuclidianDistance=np.zeros([m*K])\r\n",
        "EuclidianDistance=EuclidianDistance.reshape(m,K)\r\n",
        "EuclidianDistance"
      ],
      "execution_count": 236,
      "outputs": [
        {
          "output_type": "execute_result",
          "data": {
            "text/plain": [
              "array([[0., 0., 0., 0.],\n",
              "       [0., 0., 0., 0.],\n",
              "       [0., 0., 0., 0.],\n",
              "       ...,\n",
              "       [0., 0., 0., 0.],\n",
              "       [0., 0., 0., 0.],\n",
              "       [0., 0., 0., 0.]])"
            ]
          },
          "metadata": {
            "tags": []
          },
          "execution_count": 236
        }
      ]
    },
    {
      "cell_type": "code",
      "metadata": {
        "colab": {
          "base_uri": "https://localhost:8080/"
        },
        "id": "FDU5n2IEAjpr",
        "outputId": "52565480-f2f7-40f3-f91a-3af7ea9da942"
      },
      "source": [
        "for i in range (iterations):\r\n",
        "   for k in range(K):\r\n",
        "       tempDist=np.sum((X-centroids[:,k])**2,axis=1) #distance between each sample and each cluster\r\n",
        "       EuclidianDistance[:,k]=tempDist\r\n",
        "EuclidianDistance"
      ],
      "execution_count": 237,
      "outputs": [
        {
          "output_type": "execute_result",
          "data": {
            "text/plain": [
              "array([[1.210324e+02, 1.690100e+02, 6.250289e+02, 1.440064e+02],\n",
              "       [4.000400e+00, 3.600000e-03, 1.440001e+02, 1.006400e+00],\n",
              "       [1.000004e+02, 6.401000e+01, 1.600090e+01, 8.101440e+01],\n",
              "       ...,\n",
              "       [1.602890e+01, 3.600810e+01, 3.240256e+02, 2.500490e+01],\n",
              "       [1.960049e+02, 1.440225e+02, 6.400000e-03, 1.690289e+02],\n",
              "       [4.904410e+01, 8.101690e+01, 4.410400e+02, 6.401210e+01]])"
            ]
          },
          "metadata": {
            "tags": []
          },
          "execution_count": 237
        }
      ]
    },
    {
      "cell_type": "code",
      "metadata": {
        "id": "9fR0NxjJL2Kr"
      },
      "source": [
        "C=np.argmin(EuclidianDistance,axis=1)+1 \r\n",
        "#for each sample return the cluster number (columns) for which we have minimum distance"
      ],
      "execution_count": 238,
      "outputs": []
    },
    {
      "cell_type": "code",
      "metadata": {
        "colab": {
          "base_uri": "https://localhost:8080/"
        },
        "id": "mXaVEgykA6sJ",
        "outputId": "36194c6c-de8c-43c7-96ed-6a74894113af"
      },
      "source": [
        "C #checking cluster allocation"
      ],
      "execution_count": 239,
      "outputs": [
        {
          "output_type": "execute_result",
          "data": {
            "text/plain": [
              "array([1, 2, 3, 2, 3, 1, 2, 3, 3, 2, 4, 1, 1, 3, 3, 3, 3, 2, 3, 3, 3, 4,\n",
              "       1, 1, 1, 1, 2, 3, 3, 3, 3, 1, 1, 1, 1, 2, 3, 3, 3, 3, 3, 3, 3, 1,\n",
              "       1, 2, 1, 1, 2, 1, 3, 3, 1, 2, 2, 2, 3, 3, 3, 3, 3, 3, 3, 3, 4, 4,\n",
              "       1, 3, 3, 1, 1, 1, 2, 3, 3, 1, 1, 3, 3, 3, 3, 1, 2, 2, 1, 2, 3, 3,\n",
              "       3, 3, 3, 3, 3, 3, 3, 3, 3, 1, 1, 2, 2, 3, 3, 3, 1, 3, 1, 1, 1, 3,\n",
              "       3, 2, 3, 2, 3, 3, 3, 3, 3, 1, 1, 1, 3, 3, 3, 3, 2, 2, 1, 1, 1, 3,\n",
              "       3, 2, 1, 3, 3, 3, 1, 3, 1, 1, 1, 1, 4, 2, 3, 1, 1, 3, 1, 1, 2, 2,\n",
              "       1, 3, 3, 3, 3, 3, 3, 3, 3, 3, 1, 2, 3, 3, 3, 3, 3, 1, 2, 2, 2, 2,\n",
              "       1, 2, 3, 3, 3, 3, 3, 3, 3, 1, 3, 1, 1, 2, 2, 2, 2, 1, 3, 3, 3, 3,\n",
              "       3, 3, 3, 3, 1, 1, 3, 3, 3, 3, 3, 3, 4, 1, 1, 1, 1, 1, 2, 2, 2, 3,\n",
              "       3, 3, 2, 3, 3, 3, 3, 3, 3, 2, 3, 2, 3, 3, 1, 1, 4, 1, 3, 3, 3, 3,\n",
              "       2, 4, 3, 1, 3, 3, 2, 2, 2, 3, 3, 1, 2, 3, 3, 2, 1, 1, 1, 3, 3, 2,\n",
              "       4, 3, 3, 3, 1, 3, 3, 3, 3, 3, 3, 2, 1, 2, 3, 3, 3, 3, 3, 2, 1, 1,\n",
              "       1, 2, 3, 3, 3, 3, 3, 3, 3, 3, 3, 2, 1, 3, 3, 2, 2, 2, 3, 2, 2, 4,\n",
              "       3, 3, 2, 1, 3, 3, 3, 3, 3, 3, 2, 1, 3, 2, 3, 3, 3, 1, 3, 3, 2, 3,\n",
              "       1, 3, 3, 2, 3, 4, 2, 1, 2, 2, 3, 1, 3, 3, 3, 3, 3, 3, 3, 3, 3, 4,\n",
              "       3, 3, 3, 3, 1, 3, 3, 2, 2, 1, 1, 3, 3, 1, 2, 3, 3, 3, 3, 2, 1, 2,\n",
              "       3, 3, 3, 3, 3, 3, 2, 2, 2, 3, 1, 1, 3, 3, 3, 2, 3, 3, 1, 3, 1, 2,\n",
              "       4, 1, 3, 1])"
            ]
          },
          "metadata": {
            "tags": []
          },
          "execution_count": 239
        }
      ]
    },
    {
      "cell_type": "code",
      "metadata": {
        "id": "AS03G_OCBQdS"
      },
      "source": [
        "#indexes of all the samples in each cluster\r\n",
        "C1indexes=np.where(C==1)\r\n",
        "C2indexes=np.where(C==2)\r\n",
        "C3indexes=np.where(C==3)\r\n",
        "C4indexes=np.where(C==4)"
      ],
      "execution_count": 240,
      "outputs": []
    },
    {
      "cell_type": "code",
      "metadata": {
        "colab": {
          "base_uri": "https://localhost:8080/"
        },
        "id": "UYcvqGRWCPMD",
        "outputId": "dcd14c57-7d40-407a-e915-a2178230bf11"
      },
      "source": [
        "C4indexes #listing the indexes in the cluster number 4 "
      ],
      "execution_count": 241,
      "outputs": [
        {
          "output_type": "execute_result",
          "data": {
            "text/plain": [
              "(array([ 10,  21,  64,  65, 144, 210, 236, 243, 264, 307, 335, 351, 396]),)"
            ]
          },
          "metadata": {
            "tags": []
          },
          "execution_count": 241
        }
      ]
    },
    {
      "cell_type": "code",
      "metadata": {
        "id": "Pd0tF7J1CVsk"
      },
      "source": [
        "#Grouping of the samples based on the cluster they were assigned to \r\n",
        "Cluster1=X[C1ind]\r\n",
        "Cluster2=X[C2ind]\r\n",
        "Cluster3=X[C3ind]\r\n",
        "Cluster4=X[C4ind]\r\n",
        "Cluster5=X[C5ind]"
      ],
      "execution_count": 242,
      "outputs": []
    },
    {
      "cell_type": "code",
      "metadata": {
        "id": "MDk_HcX2C1bn"
      },
      "source": [
        "#finding the mean value for each cluster \r\n",
        "C1mean=Cluster1.mean(axis=0)\r\n",
        "C2mean=Cluster2.mean(axis=0)\r\n",
        "C3mean=Cluster3.mean(axis=0)\r\n",
        "C4mean=Cluster4.mean(axis=0)"
      ],
      "execution_count": 243,
      "outputs": []
    },
    {
      "cell_type": "code",
      "metadata": {
        "colab": {
          "base_uri": "https://localhost:8080/"
        },
        "id": "k4yW8HE6DPrt",
        "outputId": "a55fb994-b5bc-45f7-fcbc-7b1d2e90a24b"
      },
      "source": [
        "C4mean"
      ],
      "execution_count": 244,
      "outputs": [
        {
          "output_type": "execute_result",
          "data": {
            "text/plain": [
              "array([332.46341463,   0.89329268])"
            ]
          },
          "metadata": {
            "tags": []
          },
          "execution_count": 244
        }
      ]
    },
    {
      "cell_type": "code",
      "metadata": {
        "colab": {
          "base_uri": "https://localhost:8080/",
          "height": 282
        },
        "id": "8uw7UASYDbMC",
        "outputId": "84ffb30b-e396-4a35-ae00-b3c9596583a1"
      },
      "source": [
        "color=['skyblue','salmon','greenyellow','gold']\r\n",
        "labels=['cluster1','cluster2','cluster3','cluster4','cluster5']\r\n",
        "plt.scatter(Cluster1[:,0],Cluster1[:,1],c=color[0],label=labels[0])\r\n",
        "plt.scatter(Cluster2[:,0],Cluster2[:,1],c=color[1],label=labels[1])\r\n",
        "plt.scatter(Cluster3[:,0],Cluster3[:,1],c=color[2],label=labels[2])\r\n",
        "plt.scatter(Cluster4[:,0],Cluster4[:,1],c=color[3],label=labels[3])\r\n",
        "\r\n",
        "plt.scatter(C1mean[0],C1mean[1],s=100,c='gray',label='Centroid1')\r\n",
        "plt.scatter(C2mean[0],C2mean[1],s=100,c='gray',label='Centroid2')\r\n",
        "plt.scatter(C3mean[0],C3mean[1],s=100,c='gray',label='Centroid3')\r\n",
        "plt.scatter(C4mean[0],C4mean[1],s=100,c='gray',label='Centroid4')\r\n",
        "\r\n",
        "plt.xlabel('Graduate Record Examination Score')\r\n",
        "plt.ylabel('Chance of Admittion')\r\n",
        "plt.legend()\r\n",
        "plt.show()"
      ],
      "execution_count": 245,
      "outputs": [
        {
          "output_type": "display_data",
          "data": {
            "image/png": "[encoded data removed]",
            "text/plain": [
              "<Figure size 432x288 with 1 Axes>"
            ]
          },
          "metadata": {
            "tags": [],
            "needs_background": "light"
          }
        }
      ]
    }
  ]
}