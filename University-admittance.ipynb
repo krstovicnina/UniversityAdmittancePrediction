{
  "nbformat": 4,
  "nbformat_minor": 0,
  "metadata": {
    "colab": {
      "name": "NinaKrstovic2018230089.ipynb",
      "provenance": []
    },
    "kernelspec": {
      "name": "python3",
      "display_name": "Python 3"
    },
    "language_info": {
      "name": "python"
    }
  },
  "cells": [
    {
      "cell_type": "code",
      "metadata": {
        "id": "flreE3uQyAj_"
      },
      "source": [
        "import pandas as pd\n",
        "import numpy as np\n",
        "import matplotlib.pyplot as plt\n",
        "%matplotlib  inline\n",
        "from scipy import stats\n",
        "import statsmodels.api as sm\n",
        "import statsmodels.formula.api as smf"
      ],
      "execution_count": null,
      "outputs": []
    },
    {
      "cell_type": "code",
      "metadata": {
        "colab": {
          "base_uri": "https://localhost:8080/",
          "height": 204
        },
        "id": "xKbxbMhCyNVG",
        "outputId": "de1ac2db-4ca6-48d2-f89d-c23f5fc4fef6"
      },
      "source": [
        "uni = pd.read_csv('UniversityAdmittance.csv')\n",
        "uni.head()"
      ],
      "execution_count": null,
      "outputs": [
        {
          "output_type": "execute_result",
          "data": {
            "text/html": [
              "<div>\n",
              "<style scoped>\n",
              "    .dataframe tbody tr th:only-of-type {\n",
              "        vertical-align: middle;\n",
              "    }\n",
              "\n",
              "    .dataframe tbody tr th {\n",
              "        vertical-align: top;\n",
              "    }\n",
              "\n",
              "    .dataframe thead th {\n",
              "        text-align: right;\n",
              "    }\n",
              "</style>\n",
              "<table border=\"1\" class=\"dataframe\">\n",
              "  <thead>\n",
              "    <tr style=\"text-align: right;\">\n",
              "      <th></th>\n",
              "      <th>Serial_No</th>\n",
              "      <th>GRE_Score</th>\n",
              "      <th>TOEFL_Score</th>\n",
              "      <th>University_Rating</th>\n",
              "      <th>Statement_Of_Purpose</th>\n",
              "      <th>Letter_Of_Recommendation</th>\n",
              "      <th>Undergraduate_GPA</th>\n",
              "      <th>Research_Experience</th>\n",
              "      <th>Chance_of_Admission</th>\n",
              "    </tr>\n",
              "  </thead>\n",
              "  <tbody>\n",
              "    <tr>\n",
              "      <th>0</th>\n",
              "      <td>1</td>\n",
              "      <td>337</td>\n",
              "      <td>118</td>\n",
              "      <td>4</td>\n",
              "      <td>4.5</td>\n",
              "      <td>4.5</td>\n",
              "      <td>9.65</td>\n",
              "      <td>1</td>\n",
              "      <td>0.92</td>\n",
              "    </tr>\n",
              "    <tr>\n",
              "      <th>1</th>\n",
              "      <td>2</td>\n",
              "      <td>324</td>\n",
              "      <td>107</td>\n",
              "      <td>4</td>\n",
              "      <td>4.0</td>\n",
              "      <td>4.5</td>\n",
              "      <td>8.87</td>\n",
              "      <td>1</td>\n",
              "      <td>0.76</td>\n",
              "    </tr>\n",
              "    <tr>\n",
              "      <th>2</th>\n",
              "      <td>3</td>\n",
              "      <td>316</td>\n",
              "      <td>104</td>\n",
              "      <td>3</td>\n",
              "      <td>3.0</td>\n",
              "      <td>3.5</td>\n",
              "      <td>8.00</td>\n",
              "      <td>1</td>\n",
              "      <td>0.72</td>\n",
              "    </tr>\n",
              "    <tr>\n",
              "      <th>3</th>\n",
              "      <td>4</td>\n",
              "      <td>322</td>\n",
              "      <td>110</td>\n",
              "      <td>3</td>\n",
              "      <td>3.5</td>\n",
              "      <td>2.5</td>\n",
              "      <td>8.67</td>\n",
              "      <td>1</td>\n",
              "      <td>0.80</td>\n",
              "    </tr>\n",
              "    <tr>\n",
              "      <th>4</th>\n",
              "      <td>5</td>\n",
              "      <td>314</td>\n",
              "      <td>103</td>\n",
              "      <td>2</td>\n",
              "      <td>2.0</td>\n",
              "      <td>3.0</td>\n",
              "      <td>8.21</td>\n",
              "      <td>0</td>\n",
              "      <td>0.65</td>\n",
              "    </tr>\n",
              "  </tbody>\n",
              "</table>\n",
              "</div>"
            ],
            "text/plain": [
              "   Serial_No  GRE_Score  ...  Research_Experience  Chance_of_Admission\n",
              "0          1        337  ...                    1                 0.92\n",
              "1          2        324  ...                    1                 0.76\n",
              "2          3        316  ...                    1                 0.72\n",
              "3          4        322  ...                    1                 0.80\n",
              "4          5        314  ...                    0                 0.65\n",
              "\n",
              "[5 rows x 9 columns]"
            ]
          },
          "metadata": {
            "tags": []
          },
          "execution_count": 137
        }
      ]
    },
    {
      "cell_type": "code",
      "metadata": {
        "colab": {
          "base_uri": "https://localhost:8080/",
          "height": 328
        },
        "id": "6l4uAsBbysAN",
        "outputId": "b4c86840-6796-4114-8d8a-eba1c7b689be"
      },
      "source": [
        "uni.corr()"
      ],
      "execution_count": null,
      "outputs": [
        {
          "output_type": "execute_result",
          "data": {
            "text/html": [
              "<div>\n",
              "<style scoped>\n",
              "    .dataframe tbody tr th:only-of-type {\n",
              "        vertical-align: middle;\n",
              "    }\n",
              "\n",
              "    .dataframe tbody tr th {\n",
              "        vertical-align: top;\n",
              "    }\n",
              "\n",
              "    .dataframe thead th {\n",
              "        text-align: right;\n",
              "    }\n",
              "</style>\n",
              "<table border=\"1\" class=\"dataframe\">\n",
              "  <thead>\n",
              "    <tr style=\"text-align: right;\">\n",
              "      <th></th>\n",
              "      <th>Serial_No</th>\n",
              "      <th>GRE_Score</th>\n",
              "      <th>TOEFL_Score</th>\n",
              "      <th>University_Rating</th>\n",
              "      <th>Statement_Of_Purpose</th>\n",
              "      <th>Letter_Of_Recommendation</th>\n",
              "      <th>Undergraduate_GPA</th>\n",
              "      <th>Research_Experience</th>\n",
              "      <th>Chance_of_Admission</th>\n",
              "    </tr>\n",
              "  </thead>\n",
              "  <tbody>\n",
              "    <tr>\n",
              "      <th>Serial_No</th>\n",
              "      <td>1.000000</td>\n",
              "      <td>-0.097526</td>\n",
              "      <td>-0.147932</td>\n",
              "      <td>-0.169948</td>\n",
              "      <td>-0.166932</td>\n",
              "      <td>-0.088221</td>\n",
              "      <td>-0.045608</td>\n",
              "      <td>-0.063138</td>\n",
              "      <td>0.042336</td>\n",
              "    </tr>\n",
              "    <tr>\n",
              "      <th>GRE_Score</th>\n",
              "      <td>-0.097526</td>\n",
              "      <td>1.000000</td>\n",
              "      <td>0.835977</td>\n",
              "      <td>0.668976</td>\n",
              "      <td>0.612831</td>\n",
              "      <td>0.557555</td>\n",
              "      <td>0.833060</td>\n",
              "      <td>0.580391</td>\n",
              "      <td>0.802610</td>\n",
              "    </tr>\n",
              "    <tr>\n",
              "      <th>TOEFL_Score</th>\n",
              "      <td>-0.147932</td>\n",
              "      <td>0.835977</td>\n",
              "      <td>1.000000</td>\n",
              "      <td>0.695590</td>\n",
              "      <td>0.657981</td>\n",
              "      <td>0.567721</td>\n",
              "      <td>0.828417</td>\n",
              "      <td>0.489858</td>\n",
              "      <td>0.791594</td>\n",
              "    </tr>\n",
              "    <tr>\n",
              "      <th>University_Rating</th>\n",
              "      <td>-0.169948</td>\n",
              "      <td>0.668976</td>\n",
              "      <td>0.695590</td>\n",
              "      <td>1.000000</td>\n",
              "      <td>0.734523</td>\n",
              "      <td>0.660123</td>\n",
              "      <td>0.746479</td>\n",
              "      <td>0.447783</td>\n",
              "      <td>0.711250</td>\n",
              "    </tr>\n",
              "    <tr>\n",
              "      <th>Statement_Of_Purpose</th>\n",
              "      <td>-0.166932</td>\n",
              "      <td>0.612831</td>\n",
              "      <td>0.657981</td>\n",
              "      <td>0.734523</td>\n",
              "      <td>1.000000</td>\n",
              "      <td>0.729593</td>\n",
              "      <td>0.718144</td>\n",
              "      <td>0.444029</td>\n",
              "      <td>0.675732</td>\n",
              "    </tr>\n",
              "    <tr>\n",
              "      <th>Letter_Of_Recommendation</th>\n",
              "      <td>-0.088221</td>\n",
              "      <td>0.557555</td>\n",
              "      <td>0.567721</td>\n",
              "      <td>0.660123</td>\n",
              "      <td>0.729593</td>\n",
              "      <td>1.000000</td>\n",
              "      <td>0.670211</td>\n",
              "      <td>0.396859</td>\n",
              "      <td>0.669889</td>\n",
              "    </tr>\n",
              "    <tr>\n",
              "      <th>Undergraduate_GPA</th>\n",
              "      <td>-0.045608</td>\n",
              "      <td>0.833060</td>\n",
              "      <td>0.828417</td>\n",
              "      <td>0.746479</td>\n",
              "      <td>0.718144</td>\n",
              "      <td>0.670211</td>\n",
              "      <td>1.000000</td>\n",
              "      <td>0.521654</td>\n",
              "      <td>0.873289</td>\n",
              "    </tr>\n",
              "    <tr>\n",
              "      <th>Research_Experience</th>\n",
              "      <td>-0.063138</td>\n",
              "      <td>0.580391</td>\n",
              "      <td>0.489858</td>\n",
              "      <td>0.447783</td>\n",
              "      <td>0.444029</td>\n",
              "      <td>0.396859</td>\n",
              "      <td>0.521654</td>\n",
              "      <td>1.000000</td>\n",
              "      <td>0.553202</td>\n",
              "    </tr>\n",
              "    <tr>\n",
              "      <th>Chance_of_Admission</th>\n",
              "      <td>0.042336</td>\n",
              "      <td>0.802610</td>\n",
              "      <td>0.791594</td>\n",
              "      <td>0.711250</td>\n",
              "      <td>0.675732</td>\n",
              "      <td>0.669889</td>\n",
              "      <td>0.873289</td>\n",
              "      <td>0.553202</td>\n",
              "      <td>1.000000</td>\n",
              "    </tr>\n",
              "  </tbody>\n",
              "</table>\n",
              "</div>"
            ],
            "text/plain": [
              "                          Serial_No  ...  Chance_of_Admission\n",
              "Serial_No                  1.000000  ...             0.042336\n",
              "GRE_Score                 -0.097526  ...             0.802610\n",
              "TOEFL_Score               -0.147932  ...             0.791594\n",
              "University_Rating         -0.169948  ...             0.711250\n",
              "Statement_Of_Purpose      -0.166932  ...             0.675732\n",
              "Letter_Of_Recommendation  -0.088221  ...             0.669889\n",
              "Undergraduate_GPA         -0.045608  ...             0.873289\n",
              "Research_Experience       -0.063138  ...             0.553202\n",
              "Chance_of_Admission        0.042336  ...             1.000000\n",
              "\n",
              "[9 rows x 9 columns]"
            ]
          },
          "metadata": {
            "tags": []
          },
          "execution_count": 138
        }
      ]
    },
    {
      "cell_type": "code",
      "metadata": {
        "id": "nPKJlB8DyZZu"
      },
      "source": [
        "#Linear regression - statsmodels\n",
        "\n",
        "X=uni.loc[:, uni.columns == 'Undergraduate_GPA']\n",
        "y=uni.loc[:, uni.columns == 'Chance_of_Admission']\n"
      ],
      "execution_count": null,
      "outputs": []
    },
    {
      "cell_type": "code",
      "metadata": {
        "colab": {
          "base_uri": "https://localhost:8080/",
          "height": 419
        },
        "id": "D0QD1FxJzO6-",
        "outputId": "197f3acb-a0e3-442f-b3f2-61b361fdfcda"
      },
      "source": [
        "X"
      ],
      "execution_count": null,
      "outputs": [
        {
          "output_type": "execute_result",
          "data": {
            "text/html": [
              "<div>\n",
              "<style scoped>\n",
              "    .dataframe tbody tr th:only-of-type {\n",
              "        vertical-align: middle;\n",
              "    }\n",
              "\n",
              "    .dataframe tbody tr th {\n",
              "        vertical-align: top;\n",
              "    }\n",
              "\n",
              "    .dataframe thead th {\n",
              "        text-align: right;\n",
              "    }\n",
              "</style>\n",
              "<table border=\"1\" class=\"dataframe\">\n",
              "  <thead>\n",
              "    <tr style=\"text-align: right;\">\n",
              "      <th></th>\n",
              "      <th>Undergraduate_GPA</th>\n",
              "    </tr>\n",
              "  </thead>\n",
              "  <tbody>\n",
              "    <tr>\n",
              "      <th>0</th>\n",
              "      <td>9.65</td>\n",
              "    </tr>\n",
              "    <tr>\n",
              "      <th>1</th>\n",
              "      <td>8.87</td>\n",
              "    </tr>\n",
              "    <tr>\n",
              "      <th>2</th>\n",
              "      <td>8.00</td>\n",
              "    </tr>\n",
              "    <tr>\n",
              "      <th>3</th>\n",
              "      <td>8.67</td>\n",
              "    </tr>\n",
              "    <tr>\n",
              "      <th>4</th>\n",
              "      <td>8.21</td>\n",
              "    </tr>\n",
              "    <tr>\n",
              "      <th>...</th>\n",
              "      <td>...</td>\n",
              "    </tr>\n",
              "    <tr>\n",
              "      <th>395</th>\n",
              "      <td>9.04</td>\n",
              "    </tr>\n",
              "    <tr>\n",
              "      <th>396</th>\n",
              "      <td>9.11</td>\n",
              "    </tr>\n",
              "    <tr>\n",
              "      <th>397</th>\n",
              "      <td>9.45</td>\n",
              "    </tr>\n",
              "    <tr>\n",
              "      <th>398</th>\n",
              "      <td>8.78</td>\n",
              "    </tr>\n",
              "    <tr>\n",
              "      <th>399</th>\n",
              "      <td>9.66</td>\n",
              "    </tr>\n",
              "  </tbody>\n",
              "</table>\n",
              "<p>400 rows × 1 columns</p>\n",
              "</div>"
            ],
            "text/plain": [
              "     Undergraduate_GPA\n",
              "0                 9.65\n",
              "1                 8.87\n",
              "2                 8.00\n",
              "3                 8.67\n",
              "4                 8.21\n",
              "..                 ...\n",
              "395               9.04\n",
              "396               9.11\n",
              "397               9.45\n",
              "398               8.78\n",
              "399               9.66\n",
              "\n",
              "[400 rows x 1 columns]"
            ]
          },
          "metadata": {
            "tags": []
          },
          "execution_count": 140
        }
      ]
    },
    {
      "cell_type": "code",
      "metadata": {
        "colab": {
          "base_uri": "https://localhost:8080/",
          "height": 419
        },
        "id": "pq0HnvyRzS__",
        "outputId": "378e6e97-e749-46ca-e6a5-354273642ad7"
      },
      "source": [
        "y"
      ],
      "execution_count": null,
      "outputs": [
        {
          "output_type": "execute_result",
          "data": {
            "text/html": [
              "<div>\n",
              "<style scoped>\n",
              "    .dataframe tbody tr th:only-of-type {\n",
              "        vertical-align: middle;\n",
              "    }\n",
              "\n",
              "    .dataframe tbody tr th {\n",
              "        vertical-align: top;\n",
              "    }\n",
              "\n",
              "    .dataframe thead th {\n",
              "        text-align: right;\n",
              "    }\n",
              "</style>\n",
              "<table border=\"1\" class=\"dataframe\">\n",
              "  <thead>\n",
              "    <tr style=\"text-align: right;\">\n",
              "      <th></th>\n",
              "      <th>Chance_of_Admission</th>\n",
              "    </tr>\n",
              "  </thead>\n",
              "  <tbody>\n",
              "    <tr>\n",
              "      <th>0</th>\n",
              "      <td>0.92</td>\n",
              "    </tr>\n",
              "    <tr>\n",
              "      <th>1</th>\n",
              "      <td>0.76</td>\n",
              "    </tr>\n",
              "    <tr>\n",
              "      <th>2</th>\n",
              "      <td>0.72</td>\n",
              "    </tr>\n",
              "    <tr>\n",
              "      <th>3</th>\n",
              "      <td>0.80</td>\n",
              "    </tr>\n",
              "    <tr>\n",
              "      <th>4</th>\n",
              "      <td>0.65</td>\n",
              "    </tr>\n",
              "    <tr>\n",
              "      <th>...</th>\n",
              "      <td>...</td>\n",
              "    </tr>\n",
              "    <tr>\n",
              "      <th>395</th>\n",
              "      <td>0.82</td>\n",
              "    </tr>\n",
              "    <tr>\n",
              "      <th>396</th>\n",
              "      <td>0.84</td>\n",
              "    </tr>\n",
              "    <tr>\n",
              "      <th>397</th>\n",
              "      <td>0.91</td>\n",
              "    </tr>\n",
              "    <tr>\n",
              "      <th>398</th>\n",
              "      <td>0.67</td>\n",
              "    </tr>\n",
              "    <tr>\n",
              "      <th>399</th>\n",
              "      <td>0.95</td>\n",
              "    </tr>\n",
              "  </tbody>\n",
              "</table>\n",
              "<p>400 rows × 1 columns</p>\n",
              "</div>"
            ],
            "text/plain": [
              "     Chance_of_Admission\n",
              "0                   0.92\n",
              "1                   0.76\n",
              "2                   0.72\n",
              "3                   0.80\n",
              "4                   0.65\n",
              "..                   ...\n",
              "395                 0.82\n",
              "396                 0.84\n",
              "397                 0.91\n",
              "398                 0.67\n",
              "399                 0.95\n",
              "\n",
              "[400 rows x 1 columns]"
            ]
          },
          "metadata": {
            "tags": []
          },
          "execution_count": 141
        }
      ]
    },
    {
      "cell_type": "code",
      "metadata": {
        "colab": {
          "base_uri": "https://localhost:8080/",
          "height": 286
        },
        "id": "g2Y4OCTczTxx",
        "outputId": "d8be9de2-92fa-4564-cad9-5f7d629017d2"
      },
      "source": [
        "plt.scatter(X, y)"
      ],
      "execution_count": null,
      "outputs": [
        {
          "output_type": "execute_result",
          "data": {
            "text/plain": [
              "<matplotlib.collections.PathCollection at 0x7fe32457fb10>"
            ]
          },
          "metadata": {
            "tags": []
          },
          "execution_count": 142
        },
        {
          "output_type": "display_data",
          "data": {
            "image/png": "[encoded data removed]",
            "text/plain": [
              "<Figure size 432x288 with 1 Axes>"
            ]
          },
          "metadata": {
            "tags": [],
            "needs_background": "light"
          }
        }
      ]
    },
    {
      "cell_type": "code",
      "metadata": {
        "colab": {
          "base_uri": "https://localhost:8080/",
          "height": 419
        },
        "id": "055V4atPzd4W",
        "outputId": "eed9eebe-ba48-4d5a-afc8-34bdb3d935a1"
      },
      "source": [
        "df=pd.concat((X,y), axis=1)\n",
        "df"
      ],
      "execution_count": null,
      "outputs": [
        {
          "output_type": "execute_result",
          "data": {
            "text/html": [
              "<div>\n",
              "<style scoped>\n",
              "    .dataframe tbody tr th:only-of-type {\n",
              "        vertical-align: middle;\n",
              "    }\n",
              "\n",
              "    .dataframe tbody tr th {\n",
              "        vertical-align: top;\n",
              "    }\n",
              "\n",
              "    .dataframe thead th {\n",
              "        text-align: right;\n",
              "    }\n",
              "</style>\n",
              "<table border=\"1\" class=\"dataframe\">\n",
              "  <thead>\n",
              "    <tr style=\"text-align: right;\">\n",
              "      <th></th>\n",
              "      <th>Undergraduate_GPA</th>\n",
              "      <th>Chance_of_Admission</th>\n",
              "    </tr>\n",
              "  </thead>\n",
              "  <tbody>\n",
              "    <tr>\n",
              "      <th>0</th>\n",
              "      <td>9.65</td>\n",
              "      <td>0.92</td>\n",
              "    </tr>\n",
              "    <tr>\n",
              "      <th>1</th>\n",
              "      <td>8.87</td>\n",
              "      <td>0.76</td>\n",
              "    </tr>\n",
              "    <tr>\n",
              "      <th>2</th>\n",
              "      <td>8.00</td>\n",
              "      <td>0.72</td>\n",
              "    </tr>\n",
              "    <tr>\n",
              "      <th>3</th>\n",
              "      <td>8.67</td>\n",
              "      <td>0.80</td>\n",
              "    </tr>\n",
              "    <tr>\n",
              "      <th>4</th>\n",
              "      <td>8.21</td>\n",
              "      <td>0.65</td>\n",
              "    </tr>\n",
              "    <tr>\n",
              "      <th>...</th>\n",
              "      <td>...</td>\n",
              "      <td>...</td>\n",
              "    </tr>\n",
              "    <tr>\n",
              "      <th>395</th>\n",
              "      <td>9.04</td>\n",
              "      <td>0.82</td>\n",
              "    </tr>\n",
              "    <tr>\n",
              "      <th>396</th>\n",
              "      <td>9.11</td>\n",
              "      <td>0.84</td>\n",
              "    </tr>\n",
              "    <tr>\n",
              "      <th>397</th>\n",
              "      <td>9.45</td>\n",
              "      <td>0.91</td>\n",
              "    </tr>\n",
              "    <tr>\n",
              "      <th>398</th>\n",
              "      <td>8.78</td>\n",
              "      <td>0.67</td>\n",
              "    </tr>\n",
              "    <tr>\n",
              "      <th>399</th>\n",
              "      <td>9.66</td>\n",
              "      <td>0.95</td>\n",
              "    </tr>\n",
              "  </tbody>\n",
              "</table>\n",
              "<p>400 rows × 2 columns</p>\n",
              "</div>"
            ],
            "text/plain": [
              "     Undergraduate_GPA  Chance_of_Admission\n",
              "0                 9.65                 0.92\n",
              "1                 8.87                 0.76\n",
              "2                 8.00                 0.72\n",
              "3                 8.67                 0.80\n",
              "4                 8.21                 0.65\n",
              "..                 ...                  ...\n",
              "395               9.04                 0.82\n",
              "396               9.11                 0.84\n",
              "397               9.45                 0.91\n",
              "398               8.78                 0.67\n",
              "399               9.66                 0.95\n",
              "\n",
              "[400 rows x 2 columns]"
            ]
          },
          "metadata": {
            "tags": []
          },
          "execution_count": 143
        }
      ]
    },
    {
      "cell_type": "code",
      "metadata": {
        "colab": {
          "base_uri": "https://localhost:8080/"
        },
        "id": "SWhldTStziRe",
        "outputId": "fb01b735-806f-485e-9ec2-633fa849c2b1"
      },
      "source": [
        "Result1 = smf.ols('y ~ X', df).fit()\n",
        "\n",
        "print(Result1.summary())"
      ],
      "execution_count": null,
      "outputs": [
        {
          "output_type": "stream",
          "text": [
            "                            OLS Regression Results                            \n",
            "==============================================================================\n",
            "Dep. Variable:                      y   R-squared:                       0.763\n",
            "Model:                            OLS   Adj. R-squared:                  0.762\n",
            "Method:                 Least Squares   F-statistic:                     1279.\n",
            "Date:                Fri, 18 Jun 2021   Prob (F-statistic):          2.34e-126\n",
            "Time:                        08:34:15   Log-Likelihood:                 499.61\n",
            "No. Observations:                 400   AIC:                            -995.2\n",
            "Df Residuals:                     398   BIC:                            -987.2\n",
            "Df Model:                           1                                         \n",
            "Covariance Type:            nonrobust                                         \n",
            "==============================================================================\n",
            "                 coef    std err          t      P>|t|      [0.025      0.975]\n",
            "------------------------------------------------------------------------------\n",
            "Intercept     -1.0715      0.050    -21.285      0.000      -1.170      -0.973\n",
            "X              0.2088      0.006     35.759      0.000       0.197       0.220\n",
            "==============================================================================\n",
            "Omnibus:                       62.400   Durbin-Watson:                   0.918\n",
            "Prob(Omnibus):                  0.000   Jarque-Bera (JB):              105.112\n",
            "Skew:                          -0.926   Prob(JB):                     1.50e-23\n",
            "Kurtosis:                       4.697   Cond. No.                         126.\n",
            "==============================================================================\n",
            "\n",
            "Warnings:\n",
            "[1] Standard Errors assume that the covariance matrix of the errors is correctly specified.\n"
          ],
          "name": "stdout"
        }
      ]
    },
    {
      "cell_type": "code",
      "metadata": {
        "colab": {
          "base_uri": "https://localhost:8080/",
          "height": 265
        },
        "id": "G_fZJVIVz6-1",
        "outputId": "85973ac5-41ce-4ada-ca40-c754064dce0b"
      },
      "source": [
        "plt.scatter(X, y)\n",
        "plt.plot(X, Result1.fittedvalues, color='r')\n",
        "plt.show()"
      ],
      "execution_count": null,
      "outputs": [
        {
          "output_type": "display_data",
          "data": {
            "image/png": "[encoded data removed]",
            "text/plain": [
              "<Figure size 432x288 with 1 Axes>"
            ]
          },
          "metadata": {
            "tags": [],
            "needs_background": "light"
          }
        }
      ]
    },
    {
      "cell_type": "code",
      "metadata": {
        "id": "WciEgFJX0AMk"
      },
      "source": [
        "#Linear Regression - sklearn\n",
        "\n",
        "from sklearn.linear_model import LinearRegression\n",
        "reg = LinearRegression().fit(X, y)"
      ],
      "execution_count": null,
      "outputs": []
    },
    {
      "cell_type": "code",
      "metadata": {
        "colab": {
          "base_uri": "https://localhost:8080/"
        },
        "id": "tL-Uwf5a0H9E",
        "outputId": "2f3c9010-febb-4cbc-fe88-80ffaec5d4e5"
      },
      "source": [
        "k = reg.coef_\n",
        "n = reg.intercept_\n",
        "\n",
        "print(k)\n",
        "print(n)"
      ],
      "execution_count": null,
      "outputs": [
        {
          "output_type": "stream",
          "text": [
            "[[0.20884723]]\n",
            "[-1.07151166]\n"
          ],
          "name": "stdout"
        }
      ]
    },
    {
      "cell_type": "code",
      "metadata": {
        "colab": {
          "base_uri": "https://localhost:8080/",
          "height": 282
        },
        "id": "a_gxRXqY0LGN",
        "outputId": "8e77018c-d622-4205-b60d-031c38b1bd3d"
      },
      "source": [
        "y_predict = k*X + n\n",
        "\n",
        "plt.scatter(X,y)\n",
        "plt.plot(X,y_predict, color='red')"
      ],
      "execution_count": null,
      "outputs": [
        {
          "output_type": "execute_result",
          "data": {
            "text/plain": [
              "[<matplotlib.lines.Line2D at 0x7fe32484f290>]"
            ]
          },
          "metadata": {
            "tags": []
          },
          "execution_count": 148
        },
        {
          "output_type": "display_data",
          "data": {
            "image/png": "[encoded data removed]",
            "text/plain": [
              "<Figure size 432x288 with 1 Axes>"
            ]
          },
          "metadata": {
            "tags": [],
            "needs_background": "light"
          }
        }
      ]
    },
    {
      "cell_type": "code",
      "metadata": {
        "colab": {
          "base_uri": "https://localhost:8080/",
          "height": 419
        },
        "id": "jdHEk4fN0O-1",
        "outputId": "aaedf924-20cf-47e4-b3fb-f91ce104eb56"
      },
      "source": [
        "#Multiple regression - statsmodels\n",
        "\n",
        "X1=uni.loc[:, uni.columns != 'Serial_No']\n",
        "X1=sm.add_constant(X1)\n",
        "X1"
      ],
      "execution_count": null,
      "outputs": [
        {
          "output_type": "execute_result",
          "data": {
            "text/html": [
              "<div>\n",
              "<style scoped>\n",
              "    .dataframe tbody tr th:only-of-type {\n",
              "        vertical-align: middle;\n",
              "    }\n",
              "\n",
              "    .dataframe tbody tr th {\n",
              "        vertical-align: top;\n",
              "    }\n",
              "\n",
              "    .dataframe thead th {\n",
              "        text-align: right;\n",
              "    }\n",
              "</style>\n",
              "<table border=\"1\" class=\"dataframe\">\n",
              "  <thead>\n",
              "    <tr style=\"text-align: right;\">\n",
              "      <th></th>\n",
              "      <th>const</th>\n",
              "      <th>GRE_Score</th>\n",
              "      <th>TOEFL_Score</th>\n",
              "      <th>University_Rating</th>\n",
              "      <th>Statement_Of_Purpose</th>\n",
              "      <th>Letter_Of_Recommendation</th>\n",
              "      <th>Undergraduate_GPA</th>\n",
              "      <th>Research_Experience</th>\n",
              "      <th>Chance_of_Admission</th>\n",
              "    </tr>\n",
              "  </thead>\n",
              "  <tbody>\n",
              "    <tr>\n",
              "      <th>0</th>\n",
              "      <td>1.0</td>\n",
              "      <td>337</td>\n",
              "      <td>118</td>\n",
              "      <td>4</td>\n",
              "      <td>4.5</td>\n",
              "      <td>4.5</td>\n",
              "      <td>9.65</td>\n",
              "      <td>1</td>\n",
              "      <td>0.92</td>\n",
              "    </tr>\n",
              "    <tr>\n",
              "      <th>1</th>\n",
              "      <td>1.0</td>\n",
              "      <td>324</td>\n",
              "      <td>107</td>\n",
              "      <td>4</td>\n",
              "      <td>4.0</td>\n",
              "      <td>4.5</td>\n",
              "      <td>8.87</td>\n",
              "      <td>1</td>\n",
              "      <td>0.76</td>\n",
              "    </tr>\n",
              "    <tr>\n",
              "      <th>2</th>\n",
              "      <td>1.0</td>\n",
              "      <td>316</td>\n",
              "      <td>104</td>\n",
              "      <td>3</td>\n",
              "      <td>3.0</td>\n",
              "      <td>3.5</td>\n",
              "      <td>8.00</td>\n",
              "      <td>1</td>\n",
              "      <td>0.72</td>\n",
              "    </tr>\n",
              "    <tr>\n",
              "      <th>3</th>\n",
              "      <td>1.0</td>\n",
              "      <td>322</td>\n",
              "      <td>110</td>\n",
              "      <td>3</td>\n",
              "      <td>3.5</td>\n",
              "      <td>2.5</td>\n",
              "      <td>8.67</td>\n",
              "      <td>1</td>\n",
              "      <td>0.80</td>\n",
              "    </tr>\n",
              "    <tr>\n",
              "      <th>4</th>\n",
              "      <td>1.0</td>\n",
              "      <td>314</td>\n",
              "      <td>103</td>\n",
              "      <td>2</td>\n",
              "      <td>2.0</td>\n",
              "      <td>3.0</td>\n",
              "      <td>8.21</td>\n",
              "      <td>0</td>\n",
              "      <td>0.65</td>\n",
              "    </tr>\n",
              "    <tr>\n",
              "      <th>...</th>\n",
              "      <td>...</td>\n",
              "      <td>...</td>\n",
              "      <td>...</td>\n",
              "      <td>...</td>\n",
              "      <td>...</td>\n",
              "      <td>...</td>\n",
              "      <td>...</td>\n",
              "      <td>...</td>\n",
              "      <td>...</td>\n",
              "    </tr>\n",
              "    <tr>\n",
              "      <th>395</th>\n",
              "      <td>1.0</td>\n",
              "      <td>324</td>\n",
              "      <td>110</td>\n",
              "      <td>3</td>\n",
              "      <td>3.5</td>\n",
              "      <td>3.5</td>\n",
              "      <td>9.04</td>\n",
              "      <td>1</td>\n",
              "      <td>0.82</td>\n",
              "    </tr>\n",
              "    <tr>\n",
              "      <th>396</th>\n",
              "      <td>1.0</td>\n",
              "      <td>325</td>\n",
              "      <td>107</td>\n",
              "      <td>3</td>\n",
              "      <td>3.0</td>\n",
              "      <td>3.5</td>\n",
              "      <td>9.11</td>\n",
              "      <td>1</td>\n",
              "      <td>0.84</td>\n",
              "    </tr>\n",
              "    <tr>\n",
              "      <th>397</th>\n",
              "      <td>1.0</td>\n",
              "      <td>330</td>\n",
              "      <td>116</td>\n",
              "      <td>4</td>\n",
              "      <td>5.0</td>\n",
              "      <td>4.5</td>\n",
              "      <td>9.45</td>\n",
              "      <td>1</td>\n",
              "      <td>0.91</td>\n",
              "    </tr>\n",
              "    <tr>\n",
              "      <th>398</th>\n",
              "      <td>1.0</td>\n",
              "      <td>312</td>\n",
              "      <td>103</td>\n",
              "      <td>3</td>\n",
              "      <td>3.5</td>\n",
              "      <td>4.0</td>\n",
              "      <td>8.78</td>\n",
              "      <td>0</td>\n",
              "      <td>0.67</td>\n",
              "    </tr>\n",
              "    <tr>\n",
              "      <th>399</th>\n",
              "      <td>1.0</td>\n",
              "      <td>333</td>\n",
              "      <td>117</td>\n",
              "      <td>4</td>\n",
              "      <td>5.0</td>\n",
              "      <td>4.0</td>\n",
              "      <td>9.66</td>\n",
              "      <td>1</td>\n",
              "      <td>0.95</td>\n",
              "    </tr>\n",
              "  </tbody>\n",
              "</table>\n",
              "<p>400 rows × 9 columns</p>\n",
              "</div>"
            ],
            "text/plain": [
              "     const  GRE_Score  ...  Research_Experience  Chance_of_Admission\n",
              "0      1.0        337  ...                    1                 0.92\n",
              "1      1.0        324  ...                    1                 0.76\n",
              "2      1.0        316  ...                    1                 0.72\n",
              "3      1.0        322  ...                    1                 0.80\n",
              "4      1.0        314  ...                    0                 0.65\n",
              "..     ...        ...  ...                  ...                  ...\n",
              "395    1.0        324  ...                    1                 0.82\n",
              "396    1.0        325  ...                    1                 0.84\n",
              "397    1.0        330  ...                    1                 0.91\n",
              "398    1.0        312  ...                    0                 0.67\n",
              "399    1.0        333  ...                    1                 0.95\n",
              "\n",
              "[400 rows x 9 columns]"
            ]
          },
          "metadata": {
            "tags": []
          },
          "execution_count": 149
        }
      ]
    },
    {
      "cell_type": "code",
      "metadata": {
        "colab": {
          "base_uri": "https://localhost:8080/"
        },
        "id": "CDXdlzgS1SCc",
        "outputId": "55a6ea78-1aff-4993-cdac-badf97d4ac53"
      },
      "source": [
        "model1=sm.OLS(y, X1).fit()\n",
        "print(model1.summary())"
      ],
      "execution_count": null,
      "outputs": [
        {
          "output_type": "stream",
          "text": [
            "                             OLS Regression Results                            \n",
            "===============================================================================\n",
            "Dep. Variable:     Chance_of_Admission   R-squared:                       1.000\n",
            "Model:                             OLS   Adj. R-squared:                  1.000\n",
            "Method:                  Least Squares   F-statistic:                 3.095e+29\n",
            "Date:                 Fri, 18 Jun 2021   Prob (F-statistic):               0.00\n",
            "Time:                         08:34:15   Log-Likelihood:                 13015.\n",
            "No. Observations:                  400   AIC:                        -2.601e+04\n",
            "Df Residuals:                      391   BIC:                        -2.598e+04\n",
            "Df Model:                            8                                         \n",
            "Covariance Type:             nonrobust                                         \n",
            "============================================================================================\n",
            "                               coef    std err          t      P>|t|      [0.025      0.975]\n",
            "--------------------------------------------------------------------------------------------\n",
            "const                    -1.915e-15   3.97e-15     -0.482      0.630   -9.73e-15     5.9e-15\n",
            "GRE_Score                 3.036e-18   1.72e-17      0.177      0.860   -3.07e-17    3.68e-17\n",
            "TOEFL_Score              -1.041e-17   3.12e-17     -0.334      0.739   -7.18e-17    5.09e-17\n",
            "University_Rating        -2.134e-16   1.36e-16     -1.573      0.117    -4.8e-16    5.33e-17\n",
            "Statement_Of_Purpose      3.626e-16   1.58e-16      2.296      0.022    5.21e-17    6.73e-16\n",
            "Letter_Of_Recommendation -1.076e-16   1.61e-16     -0.670      0.503   -4.23e-16    2.08e-16\n",
            "Undergraduate_GPA         4.372e-16   3.86e-16      1.131      0.259   -3.23e-16     1.2e-15\n",
            "Research_Experience      -2.325e-16   2.29e-16     -1.017      0.310   -6.82e-16    2.17e-16\n",
            "Chance_of_Admission          1.0000   1.43e-15   6.98e+14      0.000       1.000       1.000\n",
            "==============================================================================\n",
            "Omnibus:                        5.475   Durbin-Watson:                   0.043\n",
            "Prob(Omnibus):                  0.065   Jarque-Bera (JB):                5.304\n",
            "Skew:                           0.277   Prob(JB):                       0.0705\n",
            "Kurtosis:                       3.103   Cond. No.                     1.49e+04\n",
            "==============================================================================\n",
            "\n",
            "Warnings:\n",
            "[1] Standard Errors assume that the covariance matrix of the errors is correctly specified.\n",
            "[2] The condition number is large, 1.49e+04. This might indicate that there are\n",
            "strong multicollinearity or other numerical problems.\n"
          ],
          "name": "stdout"
        }
      ]
    },
    {
      "cell_type": "code",
      "metadata": {
        "colab": {
          "base_uri": "https://localhost:8080/"
        },
        "id": "cEzuWSrD1bQ1",
        "outputId": "3251216e-02b0-475d-f1a4-c88edd64b359"
      },
      "source": [
        "#Multiple regression (two features dependence) \n",
        "\n",
        "Result3 = smf.ols(\"GRE_Score ~ Letter_Of_Recommendation + Research_Experience\", uni).fit()\n",
        "print(Result3.summary())"
      ],
      "execution_count": null,
      "outputs": [
        {
          "output_type": "stream",
          "text": [
            "                            OLS Regression Results                            \n",
            "==============================================================================\n",
            "Dep. Variable:              GRE_Score   R-squared:                       0.464\n",
            "Model:                            OLS   Adj. R-squared:                  0.461\n",
            "Method:                 Least Squares   F-statistic:                     171.8\n",
            "Date:                Fri, 18 Jun 2021   Prob (F-statistic):           1.77e-54\n",
            "Time:                        08:34:15   Log-Likelihood:                -1418.4\n",
            "No. Observations:                 400   AIC:                             2843.\n",
            "Df Residuals:                     397   BIC:                             2855.\n",
            "Df Model:                           2                                         \n",
            "Covariance Type:            nonrobust                                         \n",
            "============================================================================================\n",
            "                               coef    std err          t      P>|t|      [0.025      0.975]\n",
            "--------------------------------------------------------------------------------------------\n",
            "Intercept                  294.3109      1.685    174.631      0.000     290.998     297.624\n",
            "Letter_Of_Recommendation     4.9598      0.511      9.702      0.000       3.955       5.965\n",
            "Research_Experience          9.8135      0.922     10.647      0.000       8.002      11.626\n",
            "==============================================================================\n",
            "Omnibus:                        4.899   Durbin-Watson:                   1.687\n",
            "Prob(Omnibus):                  0.086   Jarque-Bera (JB):                4.773\n",
            "Skew:                          -0.266   Prob(JB):                       0.0919\n",
            "Kurtosis:                       3.055   Cond. No.                         15.6\n",
            "==============================================================================\n",
            "\n",
            "Warnings:\n",
            "[1] Standard Errors assume that the covariance matrix of the errors is correctly specified.\n"
          ],
          "name": "stdout"
        }
      ]
    },
    {
      "cell_type": "code",
      "metadata": {
        "colab": {
          "base_uri": "https://localhost:8080/"
        },
        "id": "FJGX4K0s3jee",
        "outputId": "91b472d4-b26d-4da1-9049-019dd0ad0510"
      },
      "source": [
        "Result4 = smf.ols('GRE_Score ~ Letter_Of_Recommendation * Research_Experience', uni).fit()\n",
        "\n",
        "print(Result4.summary())"
      ],
      "execution_count": null,
      "outputs": [
        {
          "output_type": "stream",
          "text": [
            "                            OLS Regression Results                            \n",
            "==============================================================================\n",
            "Dep. Variable:              GRE_Score   R-squared:                       0.468\n",
            "Model:                            OLS   Adj. R-squared:                  0.464\n",
            "Method:                 Least Squares   F-statistic:                     116.0\n",
            "Date:                Fri, 18 Jun 2021   Prob (F-statistic):           6.34e-54\n",
            "Time:                        08:34:15   Log-Likelihood:                -1417.0\n",
            "No. Observations:                 400   AIC:                             2842.\n",
            "Df Residuals:                     396   BIC:                             2858.\n",
            "Df Model:                           3                                         \n",
            "Covariance Type:            nonrobust                                         \n",
            "================================================================================================================\n",
            "                                                   coef    std err          t      P>|t|      [0.025      0.975]\n",
            "----------------------------------------------------------------------------------------------------------------\n",
            "Intercept                                      297.2048      2.398    123.918      0.000     292.490     301.920\n",
            "Letter_Of_Recommendation                         4.0143      0.757      5.306      0.000       2.527       5.502\n",
            "Research_Experience                              3.9450      3.588      1.099      0.272      -3.109      10.999\n",
            "Letter_Of_Recommendation:Research_Experience     1.7332      1.024      1.692      0.091      -0.281       3.747\n",
            "==============================================================================\n",
            "Omnibus:                        4.057   Durbin-Watson:                   1.666\n",
            "Prob(Omnibus):                  0.132   Jarque-Bera (JB):                3.939\n",
            "Skew:                          -0.242   Prob(JB):                        0.139\n",
            "Kurtosis:                       3.036   Cond. No.                         44.7\n",
            "==============================================================================\n",
            "\n",
            "Warnings:\n",
            "[1] Standard Errors assume that the covariance matrix of the errors is correctly specified.\n"
          ],
          "name": "stdout"
        }
      ]
    },
    {
      "cell_type": "code",
      "metadata": {
        "colab": {
          "base_uri": "https://localhost:8080/"
        },
        "id": "BaKk0X-N3pH1",
        "outputId": "c3f95b6b-646f-404c-d821-0ea43ffc8e3d"
      },
      "source": [
        "#Polynomial regression - statsmodels\n",
        "\n",
        "Result5 = smf.ols('y ~ X+I(X**2)+I(X**3)', df).fit()\n",
        "\n",
        "print(Result5.summary())"
      ],
      "execution_count": null,
      "outputs": [
        {
          "output_type": "stream",
          "text": [
            "                            OLS Regression Results                            \n",
            "==============================================================================\n",
            "Dep. Variable:                      y   R-squared:                       0.763\n",
            "Model:                            OLS   Adj. R-squared:                  0.762\n",
            "Method:                 Least Squares   F-statistic:                     426.0\n",
            "Date:                Fri, 18 Jun 2021   Prob (F-statistic):          1.54e-123\n",
            "Time:                        08:34:15   Log-Likelihood:                 500.28\n",
            "No. Observations:                 400   AIC:                            -992.6\n",
            "Df Residuals:                     396   BIC:                            -976.6\n",
            "Df Model:                           3                                         \n",
            "Covariance Type:            nonrobust                                         \n",
            "==============================================================================\n",
            "                 coef    std err          t      P>|t|      [0.025      0.975]\n",
            "------------------------------------------------------------------------------\n",
            "Intercept      3.6700      6.004      0.611      0.541      -8.133      15.473\n",
            "X             -1.4089      2.124     -0.663      0.507      -5.584       2.766\n",
            "I(X ** 2)      0.1831      0.250      0.733      0.464      -0.308       0.674\n",
            "I(X ** 3)     -0.0069      0.010     -0.705      0.481      -0.026       0.012\n",
            "==============================================================================\n",
            "Omnibus:                       59.680   Durbin-Watson:                   0.899\n",
            "Prob(Omnibus):                  0.000   Jarque-Bera (JB):               98.621\n",
            "Skew:                          -0.899   Prob(JB):                     3.84e-22\n",
            "Kurtosis:                       4.639   Cond. No.                     1.21e+06\n",
            "==============================================================================\n",
            "\n",
            "Warnings:\n",
            "[1] Standard Errors assume that the covariance matrix of the errors is correctly specified.\n",
            "[2] The condition number is large, 1.21e+06. This might indicate that there are\n",
            "strong multicollinearity or other numerical problems.\n"
          ],
          "name": "stdout"
        }
      ]
    },
    {
      "cell_type": "code",
      "metadata": {
        "colab": {
          "base_uri": "https://localhost:8080/"
        },
        "id": "gzod-iCY6g8O",
        "outputId": "3e20c26c-f7bb-4e21-823f-a3c0a02bcaf6"
      },
      "source": [
        "#Unconditional & Conditional Probabilities\n",
        "\n",
        "#unconditional\n",
        "\n",
        "temp=uni.Letter_Of_Recommendation.value_counts().sort_index()\n",
        "temp"
      ],
      "execution_count": null,
      "outputs": [
        {
          "output_type": "execute_result",
          "data": {
            "text/plain": [
              "1.0     1\n",
              "1.5     7\n",
              "2.0    38\n",
              "2.5    39\n",
              "3.0    85\n",
              "3.5    73\n",
              "4.0    77\n",
              "4.5    45\n",
              "5.0    35\n",
              "Name: Letter_Of_Recommendation, dtype: int64"
            ]
          },
          "metadata": {
            "tags": []
          },
          "execution_count": 154
        }
      ]
    },
    {
      "cell_type": "code",
      "metadata": {
        "colab": {
          "base_uri": "https://localhost:8080/",
          "height": 529
        },
        "id": "ikL2B6Xp7hQT",
        "outputId": "1e976302-08ca-456b-e58a-ae25e55e023a"
      },
      "source": [
        "P_L = pd.DataFrame((temp/temp.sum()).sort_index())\n",
        "P_L.columns = [\"Probability\"]\n",
        "\n",
        "P_L.plot.bar(fontsize=12)\n",
        "plt.ylabel(\"Probability\",fontsize=12)\n",
        "plt.xlabel(\"Letter of recommendation\",fontsize=12)\n",
        "plt.show()\n",
        "print(P_L)\n",
        "print(P_L.sum())\n",
        "print(P_L.max())"
      ],
      "execution_count": null,
      "outputs": [
        {
          "output_type": "display_data",
          "data": {
            "image/png": "[encoded data removed]",
            "text/plain": [
              "<Figure size 432x288 with 1 Axes>"
            ]
          },
          "metadata": {
            "tags": [],
            "needs_background": "light"
          }
        },
        {
          "output_type": "stream",
          "text": [
            "     Probability\n",
            "1.0       0.0025\n",
            "1.5       0.0175\n",
            "2.0       0.0950\n",
            "2.5       0.0975\n",
            "3.0       0.2125\n",
            "3.5       0.1825\n",
            "4.0       0.1925\n",
            "4.5       0.1125\n",
            "5.0       0.0875\n",
            "Probability    1.0\n",
            "dtype: float64\n",
            "Probability    0.2125\n",
            "dtype: float64\n"
          ],
          "name": "stdout"
        }
      ]
    },
    {
      "cell_type": "code",
      "metadata": {
        "colab": {
          "base_uri": "https://localhost:8080/"
        },
        "id": "ltmiwx1o8XDt",
        "outputId": "042a0b9b-8a44-4f75-d689-98e79d5c5ddd"
      },
      "source": [
        "#Conditional probabilities\n",
        "uni.TOEFL_Score.unique()"
      ],
      "execution_count": null,
      "outputs": [
        {
          "output_type": "execute_result",
          "data": {
            "text/plain": [
              "array([118, 107, 104, 110, 103, 115, 109, 101, 102, 108, 106, 111, 112,\n",
              "       105, 114, 116, 119, 120,  98,  93,  99,  97, 117, 113, 100,  95,\n",
              "        96,  94,  92])"
            ]
          },
          "metadata": {
            "tags": []
          },
          "execution_count": 156
        }
      ]
    },
    {
      "cell_type": "code",
      "metadata": {
        "colab": {
          "base_uri": "https://localhost:8080/"
        },
        "id": "3mxsosfy8F23",
        "outputId": "051a129a-917c-4bd7-e414-f0dbab9ed1ad"
      },
      "source": [
        "data_temp = (uni.TOEFL_Score<106).value_counts()\n",
        "data_temp"
      ],
      "execution_count": null,
      "outputs": [
        {
          "output_type": "execute_result",
          "data": {
            "text/plain": [
              "False    241\n",
              "True     159\n",
              "Name: TOEFL_Score, dtype: int64"
            ]
          },
          "metadata": {
            "tags": []
          },
          "execution_count": 157
        }
      ]
    },
    {
      "cell_type": "code",
      "metadata": {
        "colab": {
          "base_uri": "https://localhost:8080/"
        },
        "id": "iDt9275P80d_",
        "outputId": "c60e97ed-e041-4963-c6b6-7f6c4cb3528a"
      },
      "source": [
        "data_temp1 = (uni.TOEFL_Score==106).value_counts()\n",
        "data_temp1"
      ],
      "execution_count": null,
      "outputs": [
        {
          "output_type": "execute_result",
          "data": {
            "text/plain": [
              "False    376\n",
              "True      24\n",
              "Name: TOEFL_Score, dtype: int64"
            ]
          },
          "metadata": {
            "tags": []
          },
          "execution_count": 158
        }
      ]
    },
    {
      "cell_type": "code",
      "metadata": {
        "colab": {
          "base_uri": "https://localhost:8080/"
        },
        "id": "Y3Dfib_N85Z1",
        "outputId": "e2dd6f38-5cdb-4d93-f8f8-b174aec2f3c1"
      },
      "source": [
        "data_temp2 = (uni.TOEFL_Score>106).value_counts()\n",
        "data_temp2"
      ],
      "execution_count": null,
      "outputs": [
        {
          "output_type": "execute_result",
          "data": {
            "text/plain": [
              "True     217\n",
              "False    183\n",
              "Name: TOEFL_Score, dtype: int64"
            ]
          },
          "metadata": {
            "tags": []
          },
          "execution_count": 159
        }
      ]
    },
    {
      "cell_type": "code",
      "metadata": {
        "colab": {
          "base_uri": "https://localhost:8080/",
          "height": 441
        },
        "id": "A9sU6ig09ABv",
        "outputId": "dd466e44-51d5-4402-eeac-df1d6557312d"
      },
      "source": [
        "P_S = pd.DataFrame([data_temp[True], data_temp1[True], data_temp2[True]])/len(uni)\n",
        "P_S.index = [\"<160\",\"=160\",\">160\"]\n",
        "P_S.columns = [\"Probability\"]\n",
        "\n",
        "P_S.plot.bar(fontsize=12)\n",
        "plt.ylabel(\"Probability\",fontsize=12)\n",
        "plt.xlabel(\"TOEFL Score\",fontsize=12)\n",
        "plt.show()\n",
        "print(P_S)\n",
        "print(P_S.sum())\n",
        "print(P_S.max())"
      ],
      "execution_count": null,
      "outputs": [
        {
          "output_type": "display_data",
          "data": {
            "image/png": "[encoded data removed]",
            "text/plain": [
              "<Figure size 432x288 with 1 Axes>"
            ]
          },
          "metadata": {
            "tags": [],
            "needs_background": "light"
          }
        },
        {
          "output_type": "stream",
          "text": [
            "      Probability\n",
            "<160       0.3975\n",
            "=160       0.0600\n",
            ">160       0.5425\n",
            "Probability    1.0\n",
            "dtype: float64\n",
            "Probability    0.5425\n",
            "dtype: float64\n"
          ],
          "name": "stdout"
        }
      ]
    },
    {
      "cell_type": "code",
      "metadata": {
        "colab": {
          "base_uri": "https://localhost:8080/"
        },
        "id": "FpaZiay9-vwZ",
        "outputId": "6332e762-2c13-4e6a-e1b2-e5b0a1fa65aa"
      },
      "source": [
        "data_temp3 = (uni.TOEFL_Score>160 & (uni.Letter_Of_Recommendation>3.0)).value_counts()\n",
        "data_temp3"
      ],
      "execution_count": null,
      "outputs": [
        {
          "output_type": "execute_result",
          "data": {
            "text/plain": [
              "True    400\n",
              "dtype: int64"
            ]
          },
          "metadata": {
            "tags": []
          },
          "execution_count": 161
        }
      ]
    },
    {
      "cell_type": "code",
      "metadata": {
        "colab": {
          "base_uri": "https://localhost:8080/"
        },
        "id": "w7vinuNLAbnY",
        "outputId": "4e9deaf7-d0d9-4a83-de99-4d24d6c4c06c"
      },
      "source": [
        "len(data_temp1)"
      ],
      "execution_count": null,
      "outputs": [
        {
          "output_type": "execute_result",
          "data": {
            "text/plain": [
              "2"
            ]
          },
          "metadata": {
            "tags": []
          },
          "execution_count": 162
        }
      ]
    },
    {
      "cell_type": "code",
      "metadata": {
        "colab": {
          "base_uri": "https://localhost:8080/",
          "height": 415
        },
        "id": "QzJyDnYyAhOH",
        "outputId": "9b899a25-5a40-4954-b1eb-26fc0eb262c7"
      },
      "source": [
        "P_S_L = pd.DataFrame([data_temp3[True]])/(data_temp1[True])\n",
        "P_S_L.columns = [\"Probability\"]\n",
        "P_S_L.plot.bar(fontsize=12)\n",
        "\n",
        "plt.title(\"Students that have above average number of recommendation letters and the high TOEFL Score\")\n",
        "plt.ylabel(\"Probability\",fontsize=12)\n",
        "plt.xlabel(\"TOEFL Score>160 & letter>=3.0\",fontsize=12)\n",
        "plt.show()\n",
        "print(P_S_L)\n",
        "print(P_S_L.sum())\n",
        "print((uni.Letter_Of_Recommendation>=3.0).value_counts())"
      ],
      "execution_count": null,
      "outputs": [
        {
          "output_type": "display_data",
          "data": {
            "image/png": "[encoded data removed]",
            "text/plain": [
              "<Figure size 432x288 with 1 Axes>"
            ]
          },
          "metadata": {
            "tags": [],
            "needs_background": "light"
          }
        },
        {
          "output_type": "stream",
          "text": [
            "   Probability\n",
            "0    16.666667\n",
            "Probability    16.666667\n",
            "dtype: float64\n",
            "True     315\n",
            "False     85\n",
            "Name: Letter_Of_Recommendation, dtype: int64\n"
          ],
          "name": "stdout"
        }
      ]
    },
    {
      "cell_type": "code",
      "metadata": {
        "id": "omADmGyWBuSz"
      },
      "source": [
        "#Estimation of confidence intervals of certain parameters\n",
        "\n",
        "mean_estimators = []\n",
        "\n",
        "sample_size=150\n",
        "number_of_mean_estimators=50\n",
        "for x in range(number_of_mean_estimators):\n",
        "    sample=uni['Chance_of_Admission'].sample(sample_size)\n",
        "    mean_estimators.append(sample.values.mean())\n"
      ],
      "execution_count": null,
      "outputs": []
    },
    {
      "cell_type": "code",
      "metadata": {
        "id": "kUhWjyEKCafK"
      },
      "source": [
        "alpha=0.05\n",
        "std=uni['Chance_of_Admission'].std()\n",
        "\n",
        "quantile_order=1-alpha/2\n",
        "Quantile = stats.norm.ppf(quantile_order)\n",
        "margin = Quantile * (std/sample_size**0.5)"
      ],
      "execution_count": null,
      "outputs": []
    },
    {
      "cell_type": "code",
      "metadata": {
        "colab": {
          "base_uri": "https://localhost:8080/"
        },
        "id": "yVFJtO5NCpO-",
        "outputId": "d9127d01-4a9e-4880-f149-0eed96295ee8"
      },
      "source": [
        "confidence_interval = (mean_estimators[0] - margin, mean_estimators[0] + margin)\n",
        "print(mean_estimators[0])\n",
        "print(confidence_interval)"
      ],
      "execution_count": null,
      "outputs": [
        {
          "output_type": "stream",
          "text": [
            "0.7008\n",
            "(0.6779781733870399, 0.72362182661296)\n"
          ],
          "name": "stdout"
        }
      ]
    },
    {
      "cell_type": "code",
      "metadata": {
        "colab": {
          "base_uri": "https://localhost:8080/",
          "height": 537
        },
        "id": "Eg54mfATCtBa",
        "outputId": "439d009a-18c5-4960-95a8-4a211e4567cc"
      },
      "source": [
        "CIs=[]\n",
        "for i in range(0,number_of_mean_estimators):\n",
        "    CIs.append((mean_estimators[i] - margin, mean_estimators[i] + margin))\n",
        "\n",
        "plt.figure(figsize=(9,9))\n",
        "\n",
        "plt.errorbar(x=np.arange(0, number_of_mean_estimators),\n",
        "             y=mean_estimators[0:number_of_mean_estimators],\n",
        "             yerr=[(up-down)/2 for up,down in CIs],\n",
        "             fmt='o')\n",
        "\n",
        "plt.hlines(xmin=0, xmax=number_of_mean_estimators,\n",
        "           y=uni['Chance_of_Admission'].mean(),\n",
        "           linewidth=2.0,\n",
        "           color=\"red\")\n",
        "\n",
        "plt.show()"
      ],
      "execution_count": null,
      "outputs": [
        {
          "output_type": "display_data",
          "data": {
            "image/png": "[encoded data removed]",
            "text/plain": [
              "<Figure size 648x648 with 1 Axes>"
            ]
          },
          "metadata": {
            "tags": [],
            "needs_background": "light"
          }
        }
      ]
    },
    {
      "cell_type": "code",
      "metadata": {
        "colab": {
          "base_uri": "https://localhost:8080/",
          "height": 297
        },
        "id": "M9fOYewUC5yX",
        "outputId": "f95f6da9-a243-427a-db7e-31f32237f67c"
      },
      "source": [
        "#Estimation of the parameters of distributions of single variables\n",
        "\n",
        "uni.describe()"
      ],
      "execution_count": null,
      "outputs": [
        {
          "output_type": "execute_result",
          "data": {
            "text/html": [
              "<div>\n",
              "<style scoped>\n",
              "    .dataframe tbody tr th:only-of-type {\n",
              "        vertical-align: middle;\n",
              "    }\n",
              "\n",
              "    .dataframe tbody tr th {\n",
              "        vertical-align: top;\n",
              "    }\n",
              "\n",
              "    .dataframe thead th {\n",
              "        text-align: right;\n",
              "    }\n",
              "</style>\n",
              "<table border=\"1\" class=\"dataframe\">\n",
              "  <thead>\n",
              "    <tr style=\"text-align: right;\">\n",
              "      <th></th>\n",
              "      <th>Serial_No</th>\n",
              "      <th>GRE_Score</th>\n",
              "      <th>TOEFL_Score</th>\n",
              "      <th>University_Rating</th>\n",
              "      <th>Statement_Of_Purpose</th>\n",
              "      <th>Letter_Of_Recommendation</th>\n",
              "      <th>Undergraduate_GPA</th>\n",
              "      <th>Research_Experience</th>\n",
              "      <th>Chance_of_Admission</th>\n",
              "    </tr>\n",
              "  </thead>\n",
              "  <tbody>\n",
              "    <tr>\n",
              "      <th>count</th>\n",
              "      <td>400.000000</td>\n",
              "      <td>400.000000</td>\n",
              "      <td>400.000000</td>\n",
              "      <td>400.000000</td>\n",
              "      <td>400.000000</td>\n",
              "      <td>400.000000</td>\n",
              "      <td>400.000000</td>\n",
              "      <td>400.000000</td>\n",
              "      <td>400.000000</td>\n",
              "    </tr>\n",
              "    <tr>\n",
              "      <th>mean</th>\n",
              "      <td>200.500000</td>\n",
              "      <td>316.807500</td>\n",
              "      <td>107.410000</td>\n",
              "      <td>3.087500</td>\n",
              "      <td>3.400000</td>\n",
              "      <td>3.452500</td>\n",
              "      <td>8.598925</td>\n",
              "      <td>0.547500</td>\n",
              "      <td>0.724350</td>\n",
              "    </tr>\n",
              "    <tr>\n",
              "      <th>std</th>\n",
              "      <td>115.614301</td>\n",
              "      <td>11.473646</td>\n",
              "      <td>6.069514</td>\n",
              "      <td>1.143728</td>\n",
              "      <td>1.006869</td>\n",
              "      <td>0.898478</td>\n",
              "      <td>0.596317</td>\n",
              "      <td>0.498362</td>\n",
              "      <td>0.142609</td>\n",
              "    </tr>\n",
              "    <tr>\n",
              "      <th>min</th>\n",
              "      <td>1.000000</td>\n",
              "      <td>290.000000</td>\n",
              "      <td>92.000000</td>\n",
              "      <td>1.000000</td>\n",
              "      <td>1.000000</td>\n",
              "      <td>1.000000</td>\n",
              "      <td>6.800000</td>\n",
              "      <td>0.000000</td>\n",
              "      <td>0.340000</td>\n",
              "    </tr>\n",
              "    <tr>\n",
              "      <th>25%</th>\n",
              "      <td>100.750000</td>\n",
              "      <td>308.000000</td>\n",
              "      <td>103.000000</td>\n",
              "      <td>2.000000</td>\n",
              "      <td>2.500000</td>\n",
              "      <td>3.000000</td>\n",
              "      <td>8.170000</td>\n",
              "      <td>0.000000</td>\n",
              "      <td>0.640000</td>\n",
              "    </tr>\n",
              "    <tr>\n",
              "      <th>50%</th>\n",
              "      <td>200.500000</td>\n",
              "      <td>317.000000</td>\n",
              "      <td>107.000000</td>\n",
              "      <td>3.000000</td>\n",
              "      <td>3.500000</td>\n",
              "      <td>3.500000</td>\n",
              "      <td>8.610000</td>\n",
              "      <td>1.000000</td>\n",
              "      <td>0.730000</td>\n",
              "    </tr>\n",
              "    <tr>\n",
              "      <th>75%</th>\n",
              "      <td>300.250000</td>\n",
              "      <td>325.000000</td>\n",
              "      <td>112.000000</td>\n",
              "      <td>4.000000</td>\n",
              "      <td>4.000000</td>\n",
              "      <td>4.000000</td>\n",
              "      <td>9.062500</td>\n",
              "      <td>1.000000</td>\n",
              "      <td>0.830000</td>\n",
              "    </tr>\n",
              "    <tr>\n",
              "      <th>max</th>\n",
              "      <td>400.000000</td>\n",
              "      <td>340.000000</td>\n",
              "      <td>120.000000</td>\n",
              "      <td>5.000000</td>\n",
              "      <td>5.000000</td>\n",
              "      <td>5.000000</td>\n",
              "      <td>9.920000</td>\n",
              "      <td>1.000000</td>\n",
              "      <td>0.970000</td>\n",
              "    </tr>\n",
              "  </tbody>\n",
              "</table>\n",
              "</div>"
            ],
            "text/plain": [
              "        Serial_No   GRE_Score  ...  Research_Experience  Chance_of_Admission\n",
              "count  400.000000  400.000000  ...           400.000000           400.000000\n",
              "mean   200.500000  316.807500  ...             0.547500             0.724350\n",
              "std    115.614301   11.473646  ...             0.498362             0.142609\n",
              "min      1.000000  290.000000  ...             0.000000             0.340000\n",
              "25%    100.750000  308.000000  ...             0.000000             0.640000\n",
              "50%    200.500000  317.000000  ...             1.000000             0.730000\n",
              "75%    300.250000  325.000000  ...             1.000000             0.830000\n",
              "max    400.000000  340.000000  ...             1.000000             0.970000\n",
              "\n",
              "[8 rows x 9 columns]"
            ]
          },
          "metadata": {
            "tags": []
          },
          "execution_count": 168
        }
      ]
    },
    {
      "cell_type": "code",
      "metadata": {
        "colab": {
          "base_uri": "https://localhost:8080/"
        },
        "id": "6ESoYW0uDD4Q",
        "outputId": "1bf52ee8-fada-49be-9eed-479713f427b9"
      },
      "source": [
        "uni.quantile(0.85)"
      ],
      "execution_count": null,
      "outputs": [
        {
          "output_type": "execute_result",
          "data": {
            "text/plain": [
              "Serial_No                   340.15\n",
              "GRE_Score                   329.00\n",
              "TOEFL_Score                 114.00\n",
              "University_Rating             4.15\n",
              "Statement_Of_Purpose          4.50\n",
              "Letter_Of_Recommendation      4.50\n",
              "Undergraduate_GPA             9.23\n",
              "Research_Experience           1.00\n",
              "Chance_of_Admission           0.89\n",
              "Name: 0.85, dtype: float64"
            ]
          },
          "metadata": {
            "tags": []
          },
          "execution_count": 169
        }
      ]
    },
    {
      "cell_type": "code",
      "metadata": {
        "colab": {
          "base_uri": "https://localhost:8080/"
        },
        "id": "mSZgb1qkDvnJ",
        "outputId": "43b3cf29-f362-4c24-92e4-96f1dc8a8bee"
      },
      "source": [
        "uni.var()"
      ],
      "execution_count": null,
      "outputs": [
        {
          "output_type": "execute_result",
          "data": {
            "text/plain": [
              "Serial_No                   13366.666667\n",
              "GRE_Score                     131.644555\n",
              "TOEFL_Score                    36.838997\n",
              "University_Rating               1.308114\n",
              "Statement_Of_Purpose            1.013784\n",
              "Letter_Of_Recommendation        0.807262\n",
              "Undergraduate_GPA               0.355594\n",
              "Research_Experience             0.248365\n",
              "Chance_of_Admission             0.020337\n",
              "dtype: float64"
            ]
          },
          "metadata": {
            "tags": []
          },
          "execution_count": 170
        }
      ]
    },
    {
      "cell_type": "code",
      "metadata": {
        "colab": {
          "base_uri": "https://localhost:8080/"
        },
        "id": "-aVZAEUKD0UE",
        "outputId": "fd3d2758-80b3-4e50-f52f-77dd6ceae57f"
      },
      "source": [
        "uni.std()"
      ],
      "execution_count": null,
      "outputs": [
        {
          "output_type": "execute_result",
          "data": {
            "text/plain": [
              "Serial_No                   115.614301\n",
              "GRE_Score                    11.473646\n",
              "TOEFL_Score                   6.069514\n",
              "University_Rating             1.143728\n",
              "Statement_Of_Purpose          1.006869\n",
              "Letter_Of_Recommendation      0.898478\n",
              "Undergraduate_GPA             0.596317\n",
              "Research_Experience           0.498362\n",
              "Chance_of_Admission           0.142609\n",
              "dtype: float64"
            ]
          },
          "metadata": {
            "tags": []
          },
          "execution_count": 171
        }
      ]
    },
    {
      "cell_type": "code",
      "metadata": {
        "colab": {
          "base_uri": "https://localhost:8080/"
        },
        "id": "YEVUccATEDrf",
        "outputId": "08bc632b-1847-45cc-e5f4-778214e95da4"
      },
      "source": [
        "uni.median()"
      ],
      "execution_count": null,
      "outputs": [
        {
          "output_type": "execute_result",
          "data": {
            "text/plain": [
              "Serial_No                   200.50\n",
              "GRE_Score                   317.00\n",
              "TOEFL_Score                 107.00\n",
              "University_Rating             3.00\n",
              "Statement_Of_Purpose          3.50\n",
              "Letter_Of_Recommendation      3.50\n",
              "Undergraduate_GPA             8.61\n",
              "Research_Experience           1.00\n",
              "Chance_of_Admission           0.73\n",
              "dtype: float64"
            ]
          },
          "metadata": {
            "tags": []
          },
          "execution_count": 172
        }
      ]
    },
    {
      "cell_type": "code",
      "metadata": {
        "colab": {
          "base_uri": "https://localhost:8080/",
          "height": 328
        },
        "id": "tipIRnnlEa7I",
        "outputId": "8554b101-0368-4e61-bc05-ecafb308ec13"
      },
      "source": [
        "#Estimation of the parameters of the joint distributions (covariance, correlation coefficient)\n",
        "\n",
        "uni.cov()"
      ],
      "execution_count": null,
      "outputs": [
        {
          "output_type": "execute_result",
          "data": {
            "text/html": [
              "<div>\n",
              "<style scoped>\n",
              "    .dataframe tbody tr th:only-of-type {\n",
              "        vertical-align: middle;\n",
              "    }\n",
              "\n",
              "    .dataframe tbody tr th {\n",
              "        vertical-align: top;\n",
              "    }\n",
              "\n",
              "    .dataframe thead th {\n",
              "        text-align: right;\n",
              "    }\n",
              "</style>\n",
              "<table border=\"1\" class=\"dataframe\">\n",
              "  <thead>\n",
              "    <tr style=\"text-align: right;\">\n",
              "      <th></th>\n",
              "      <th>Serial_No</th>\n",
              "      <th>GRE_Score</th>\n",
              "      <th>TOEFL_Score</th>\n",
              "      <th>University_Rating</th>\n",
              "      <th>Statement_Of_Purpose</th>\n",
              "      <th>Letter_Of_Recommendation</th>\n",
              "      <th>Undergraduate_GPA</th>\n",
              "      <th>Research_Experience</th>\n",
              "      <th>Chance_of_Admission</th>\n",
              "    </tr>\n",
              "  </thead>\n",
              "  <tbody>\n",
              "    <tr>\n",
              "      <th>Serial_No</th>\n",
              "      <td>13366.666667</td>\n",
              "      <td>-129.369674</td>\n",
              "      <td>-103.807018</td>\n",
              "      <td>-22.472431</td>\n",
              "      <td>-19.432331</td>\n",
              "      <td>-9.164160</td>\n",
              "      <td>-3.144373</td>\n",
              "      <td>-3.637845</td>\n",
              "      <td>0.698020</td>\n",
              "    </tr>\n",
              "    <tr>\n",
              "      <th>GRE_Score</th>\n",
              "      <td>-129.369674</td>\n",
              "      <td>131.644555</td>\n",
              "      <td>58.216967</td>\n",
              "      <td>8.778791</td>\n",
              "      <td>7.079699</td>\n",
              "      <td>5.747726</td>\n",
              "      <td>5.699742</td>\n",
              "      <td>3.318690</td>\n",
              "      <td>1.313271</td>\n",
              "    </tr>\n",
              "    <tr>\n",
              "      <th>TOEFL_Score</th>\n",
              "      <td>-103.807018</td>\n",
              "      <td>58.216967</td>\n",
              "      <td>36.838997</td>\n",
              "      <td>4.828697</td>\n",
              "      <td>4.021053</td>\n",
              "      <td>3.095965</td>\n",
              "      <td>2.998337</td>\n",
              "      <td>1.481729</td>\n",
              "      <td>0.685179</td>\n",
              "    </tr>\n",
              "    <tr>\n",
              "      <th>University_Rating</th>\n",
              "      <td>-22.472431</td>\n",
              "      <td>8.778791</td>\n",
              "      <td>4.828697</td>\n",
              "      <td>1.308114</td>\n",
              "      <td>0.845865</td>\n",
              "      <td>0.678352</td>\n",
              "      <td>0.509117</td>\n",
              "      <td>0.255232</td>\n",
              "      <td>0.116009</td>\n",
              "    </tr>\n",
              "    <tr>\n",
              "      <th>Statement_Of_Purpose</th>\n",
              "      <td>-19.432331</td>\n",
              "      <td>7.079699</td>\n",
              "      <td>4.021053</td>\n",
              "      <td>0.845865</td>\n",
              "      <td>1.013784</td>\n",
              "      <td>0.660025</td>\n",
              "      <td>0.431183</td>\n",
              "      <td>0.222807</td>\n",
              "      <td>0.097028</td>\n",
              "    </tr>\n",
              "    <tr>\n",
              "      <th>Letter_Of_Recommendation</th>\n",
              "      <td>-9.164160</td>\n",
              "      <td>5.747726</td>\n",
              "      <td>3.095965</td>\n",
              "      <td>0.678352</td>\n",
              "      <td>0.660025</td>\n",
              "      <td>0.807262</td>\n",
              "      <td>0.359084</td>\n",
              "      <td>0.177701</td>\n",
              "      <td>0.085834</td>\n",
              "    </tr>\n",
              "    <tr>\n",
              "      <th>Undergraduate_GPA</th>\n",
              "      <td>-3.144373</td>\n",
              "      <td>5.699742</td>\n",
              "      <td>2.998337</td>\n",
              "      <td>0.509117</td>\n",
              "      <td>0.431183</td>\n",
              "      <td>0.359084</td>\n",
              "      <td>0.355594</td>\n",
              "      <td>0.155026</td>\n",
              "      <td>0.074265</td>\n",
              "    </tr>\n",
              "    <tr>\n",
              "      <th>Research_Experience</th>\n",
              "      <td>-3.637845</td>\n",
              "      <td>3.318690</td>\n",
              "      <td>1.481729</td>\n",
              "      <td>0.255232</td>\n",
              "      <td>0.222807</td>\n",
              "      <td>0.177701</td>\n",
              "      <td>0.155026</td>\n",
              "      <td>0.248365</td>\n",
              "      <td>0.039317</td>\n",
              "    </tr>\n",
              "    <tr>\n",
              "      <th>Chance_of_Admission</th>\n",
              "      <td>0.698020</td>\n",
              "      <td>1.313271</td>\n",
              "      <td>0.685179</td>\n",
              "      <td>0.116009</td>\n",
              "      <td>0.097028</td>\n",
              "      <td>0.085834</td>\n",
              "      <td>0.074265</td>\n",
              "      <td>0.039317</td>\n",
              "      <td>0.020337</td>\n",
              "    </tr>\n",
              "  </tbody>\n",
              "</table>\n",
              "</div>"
            ],
            "text/plain": [
              "                             Serial_No  ...  Chance_of_Admission\n",
              "Serial_No                 13366.666667  ...             0.698020\n",
              "GRE_Score                  -129.369674  ...             1.313271\n",
              "TOEFL_Score                -103.807018  ...             0.685179\n",
              "University_Rating           -22.472431  ...             0.116009\n",
              "Statement_Of_Purpose        -19.432331  ...             0.097028\n",
              "Letter_Of_Recommendation     -9.164160  ...             0.085834\n",
              "Undergraduate_GPA            -3.144373  ...             0.074265\n",
              "Research_Experience          -3.637845  ...             0.039317\n",
              "Chance_of_Admission           0.698020  ...             0.020337\n",
              "\n",
              "[9 rows x 9 columns]"
            ]
          },
          "metadata": {
            "tags": []
          },
          "execution_count": 173
        }
      ]
    },
    {
      "cell_type": "code",
      "metadata": {
        "colab": {
          "base_uri": "https://localhost:8080/",
          "height": 328
        },
        "id": "PhUqMwC9EmsN",
        "outputId": "ed95a1aa-9ea2-4738-8828-62f0b7846e21"
      },
      "source": [
        "uni.corr()"
      ],
      "execution_count": null,
      "outputs": [
        {
          "output_type": "execute_result",
          "data": {
            "text/html": [
              "<div>\n",
              "<style scoped>\n",
              "    .dataframe tbody tr th:only-of-type {\n",
              "        vertical-align: middle;\n",
              "    }\n",
              "\n",
              "    .dataframe tbody tr th {\n",
              "        vertical-align: top;\n",
              "    }\n",
              "\n",
              "    .dataframe thead th {\n",
              "        text-align: right;\n",
              "    }\n",
              "</style>\n",
              "<table border=\"1\" class=\"dataframe\">\n",
              "  <thead>\n",
              "    <tr style=\"text-align: right;\">\n",
              "      <th></th>\n",
              "      <th>Serial_No</th>\n",
              "      <th>GRE_Score</th>\n",
              "      <th>TOEFL_Score</th>\n",
              "      <th>University_Rating</th>\n",
              "      <th>Statement_Of_Purpose</th>\n",
              "      <th>Letter_Of_Recommendation</th>\n",
              "      <th>Undergraduate_GPA</th>\n",
              "      <th>Research_Experience</th>\n",
              "      <th>Chance_of_Admission</th>\n",
              "    </tr>\n",
              "  </thead>\n",
              "  <tbody>\n",
              "    <tr>\n",
              "      <th>Serial_No</th>\n",
              "      <td>1.000000</td>\n",
              "      <td>-0.097526</td>\n",
              "      <td>-0.147932</td>\n",
              "      <td>-0.169948</td>\n",
              "      <td>-0.166932</td>\n",
              "      <td>-0.088221</td>\n",
              "      <td>-0.045608</td>\n",
              "      <td>-0.063138</td>\n",
              "      <td>0.042336</td>\n",
              "    </tr>\n",
              "    <tr>\n",
              "      <th>GRE_Score</th>\n",
              "      <td>-0.097526</td>\n",
              "      <td>1.000000</td>\n",
              "      <td>0.835977</td>\n",
              "      <td>0.668976</td>\n",
              "      <td>0.612831</td>\n",
              "      <td>0.557555</td>\n",
              "      <td>0.833060</td>\n",
              "      <td>0.580391</td>\n",
              "      <td>0.802610</td>\n",
              "    </tr>\n",
              "    <tr>\n",
              "      <th>TOEFL_Score</th>\n",
              "      <td>-0.147932</td>\n",
              "      <td>0.835977</td>\n",
              "      <td>1.000000</td>\n",
              "      <td>0.695590</td>\n",
              "      <td>0.657981</td>\n",
              "      <td>0.567721</td>\n",
              "      <td>0.828417</td>\n",
              "      <td>0.489858</td>\n",
              "      <td>0.791594</td>\n",
              "    </tr>\n",
              "    <tr>\n",
              "      <th>University_Rating</th>\n",
              "      <td>-0.169948</td>\n",
              "      <td>0.668976</td>\n",
              "      <td>0.695590</td>\n",
              "      <td>1.000000</td>\n",
              "      <td>0.734523</td>\n",
              "      <td>0.660123</td>\n",
              "      <td>0.746479</td>\n",
              "      <td>0.447783</td>\n",
              "      <td>0.711250</td>\n",
              "    </tr>\n",
              "    <tr>\n",
              "      <th>Statement_Of_Purpose</th>\n",
              "      <td>-0.166932</td>\n",
              "      <td>0.612831</td>\n",
              "      <td>0.657981</td>\n",
              "      <td>0.734523</td>\n",
              "      <td>1.000000</td>\n",
              "      <td>0.729593</td>\n",
              "      <td>0.718144</td>\n",
              "      <td>0.444029</td>\n",
              "      <td>0.675732</td>\n",
              "    </tr>\n",
              "    <tr>\n",
              "      <th>Letter_Of_Recommendation</th>\n",
              "      <td>-0.088221</td>\n",
              "      <td>0.557555</td>\n",
              "      <td>0.567721</td>\n",
              "      <td>0.660123</td>\n",
              "      <td>0.729593</td>\n",
              "      <td>1.000000</td>\n",
              "      <td>0.670211</td>\n",
              "      <td>0.396859</td>\n",
              "      <td>0.669889</td>\n",
              "    </tr>\n",
              "    <tr>\n",
              "      <th>Undergraduate_GPA</th>\n",
              "      <td>-0.045608</td>\n",
              "      <td>0.833060</td>\n",
              "      <td>0.828417</td>\n",
              "      <td>0.746479</td>\n",
              "      <td>0.718144</td>\n",
              "      <td>0.670211</td>\n",
              "      <td>1.000000</td>\n",
              "      <td>0.521654</td>\n",
              "      <td>0.873289</td>\n",
              "    </tr>\n",
              "    <tr>\n",
              "      <th>Research_Experience</th>\n",
              "      <td>-0.063138</td>\n",
              "      <td>0.580391</td>\n",
              "      <td>0.489858</td>\n",
              "      <td>0.447783</td>\n",
              "      <td>0.444029</td>\n",
              "      <td>0.396859</td>\n",
              "      <td>0.521654</td>\n",
              "      <td>1.000000</td>\n",
              "      <td>0.553202</td>\n",
              "    </tr>\n",
              "    <tr>\n",
              "      <th>Chance_of_Admission</th>\n",
              "      <td>0.042336</td>\n",
              "      <td>0.802610</td>\n",
              "      <td>0.791594</td>\n",
              "      <td>0.711250</td>\n",
              "      <td>0.675732</td>\n",
              "      <td>0.669889</td>\n",
              "      <td>0.873289</td>\n",
              "      <td>0.553202</td>\n",
              "      <td>1.000000</td>\n",
              "    </tr>\n",
              "  </tbody>\n",
              "</table>\n",
              "</div>"
            ],
            "text/plain": [
              "                          Serial_No  ...  Chance_of_Admission\n",
              "Serial_No                  1.000000  ...             0.042336\n",
              "GRE_Score                 -0.097526  ...             0.802610\n",
              "TOEFL_Score               -0.147932  ...             0.791594\n",
              "University_Rating         -0.169948  ...             0.711250\n",
              "Statement_Of_Purpose      -0.166932  ...             0.675732\n",
              "Letter_Of_Recommendation  -0.088221  ...             0.669889\n",
              "Undergraduate_GPA         -0.045608  ...             0.873289\n",
              "Research_Experience       -0.063138  ...             0.553202\n",
              "Chance_of_Admission        0.042336  ...             1.000000\n",
              "\n",
              "[9 rows x 9 columns]"
            ]
          },
          "metadata": {
            "tags": []
          },
          "execution_count": 174
        }
      ]
    },
    {
      "cell_type": "code",
      "metadata": {
        "colab": {
          "base_uri": "https://localhost:8080/"
        },
        "id": "trfxiy9WEpsB",
        "outputId": "5c27afb7-d8d1-4fa1-d71f-3f47257e199a"
      },
      "source": [
        "uni.cov()['GRE_Score']['TOEFL_Score']/(uni.std()['GRE_Score']*uni.std()['TOEFL_Score'])"
      ],
      "execution_count": null,
      "outputs": [
        {
          "output_type": "execute_result",
          "data": {
            "text/plain": [
              "0.835976803014396"
            ]
          },
          "metadata": {
            "tags": []
          },
          "execution_count": 175
        }
      ]
    },
    {
      "cell_type": "code",
      "metadata": {
        "id": "giK9BrheJik4"
      },
      "source": [
        "#Parametric hypothesis testing\n",
        "\n",
        "mean_estimators = []\n",
        "\n",
        "sample_size=150\n",
        "number_of_mean_estimators=50\n",
        "for x in range(number_of_mean_estimators):\n",
        "    sample=uni['Chance_of_Admission'].sample(sample_size)\n",
        "    mean_estimators.append(sample.values.mean())"
      ],
      "execution_count": null,
      "outputs": []
    },
    {
      "cell_type": "code",
      "metadata": {
        "id": "3vYNdfSYKAnq"
      },
      "source": [
        "alpha=0.05 \n",
        "std=uni['Chance_of_Admission'].std()\n",
        "\n",
        "quantile_order=1-alpha/2\n",
        "Quantile = stats.norm.ppf(quantile_order)\n",
        "margin = Quantile * (std/sample_size**0.5)"
      ],
      "execution_count": null,
      "outputs": []
    },
    {
      "cell_type": "code",
      "metadata": {
        "colab": {
          "base_uri": "https://localhost:8080/"
        },
        "id": "Kwds3KK5KGUo",
        "outputId": "a1e0dc0e-c249-46c0-a596-34989fafe093"
      },
      "source": [
        "confidence_interval = (mean_estimators[0] - margin, mean_estimators[0] + margin)\n",
        "print(mean_estimators[0])\n",
        "print(confidence_interval)"
      ],
      "execution_count": null,
      "outputs": [
        {
          "output_type": "stream",
          "text": [
            "0.7292666666666666\n",
            "(0.7064448400537066, 0.7520884932796267)\n"
          ],
          "name": "stdout"
        }
      ]
    },
    {
      "cell_type": "code",
      "metadata": {
        "colab": {
          "base_uri": "https://localhost:8080/"
        },
        "id": "hbaSgx5LKPPX",
        "outputId": "9127673e-346e-448d-99f2-8dbb7579d883"
      },
      "source": [
        "p_value=2*(1-stats.t.cdf(Quantile,df=sample_size-1))\n",
        "    \n",
        "p_value"
      ],
      "execution_count": null,
      "outputs": [
        {
          "output_type": "execute_result",
          "data": {
            "text/plain": [
              "0.05186570552050895"
            ]
          },
          "metadata": {
            "tags": []
          },
          "execution_count": 179
        }
      ]
    }
  ]
}